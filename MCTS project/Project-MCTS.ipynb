{
 "cells": [
  {
   "attachments": {},
   "cell_type": "markdown",
   "metadata": {},
   "source": [
    "# Project: Monte Carlo Tree Search Mini Problem Set\n",
    "\n",
    "- In this project, you will learn and implement the Monte Carlo Tree Search (MCTS) algoritm on the Tic Tac Toe game."
   ]
  },
  {
   "attachments": {},
   "cell_type": "markdown",
   "metadata": {},
   "source": [
    "## What is a tree search?\n",
    "Trees are a special case of the graph problems previously seen in class. For example, consider Tic Tac Toe. From the starting blank board, each choice of where to draw an X is a possible future, followed by each choice of where to draw an O. A planner can look at this sprawl of futures and choose which action will most likely lead to victory.\n",
    "\n",
    "![Example 1](./figures/example_1.png)\n",
    "\n",
    "## Breadth First Tree Search\n",
    "\n",
    "In a breadth first tree search the planner considers potential boards in order of depth. All boards that are one turn in the future are considered first, followed by the boards two turns away, until every potential board has been considered. The planner then chooses the best move to make based on whether the move will lead to victory or to defeat. In the following example, a breadth first search would identify that all other moves lead to a loss and instead pick the rightmost move.\n",
    "\n",
    "![Example 2](./figures/example_2.png)\n",
    "\n",
    "## Monte Carlo Tree Search\n",
    "\n",
    "The problem with breadth first search is that it isn't at all clever. Tic Tac Toe is one of the simpler games in existence, but there are nearly three-hundred sixty thousand possible sets of moves for a BFS-based planner to consider. In a game with less constrained movement, like chess, this number exceeds the number of atoms in the known universe after looking only a couple of turns into the future. A Breadth First Search is too tied up with being logical and provably correct. Monte Carlo Tree Search leaps ahead to impulsively go where no search has gone before. In simpler terms, BFS is Spock while MCTS is Kirk.\n",
    "\n",
    "MCTS performs its search by repeatedly imagining play-throughs of the game or scenario, traveling down the entire branch of the game tree until it terminates. Based on how this play-through went, MCTS then updates the value of each node (move) involved based on whether it won or lost the playthrough. The Monte Carlo component comes from the fact that it chooses moves at random, not based on heuristics or visit count. This nondeterminism greatly increases the potential space it can explore even though its exploration will be much less rigorous.\n",
    "\n",
    "For example, let's look at the BFS tree above. The bad red moves have a high probability of loss because in 1/5 of the playthroughs X will instantly win. The correct, rightmost move will have a lower probability of a loss because X doesn't have this 1/5 chance of winning. MCTS will discard the red moves because of this higher loss probability, assigning them lower values whenever it selects them during a randomized play-through.\n",
    "\n",
    "## MCTS Algorithm\n",
    "\n",
    "[Check out the paper](http://ieeexplore.ieee.org/stamp/stamp.jsp?tp=&arnumber=6145622&tag=1)."
   ]
  },
  {
   "attachments": {},
   "cell_type": "markdown",
   "metadata": {},
   "source": [
    "## Problem Set API"
   ]
  },
  {
   "attachments": {},
   "cell_type": "markdown",
   "metadata": {},
   "source": [
    "Before you write your very own MCTS bot, you need to get sped up on the API you will be using. But even before getting into the API, please run the following to import the API and some boilerplate code:"
   ]
  },
  {
   "cell_type": "code",
   "execution_count": 2,
   "metadata": {
    "collapsed": true
   },
   "outputs": [],
   "source": [
    "import algo\n",
    "import sim\n",
    "import random\n",
    "import time\n",
    "from tests import *\n",
    "from game import *\n"
   ]
  },
  {
   "attachments": {},
   "cell_type": "markdown",
   "metadata": {},
   "source": [
    "### The `Board` Class\n",
    "\n",
    "The `Board` class is a template class that represents the state of a\n",
    "board at a single point in a game. We've created a `ConnectFourBoard`\n",
    "subclass that handles the mechanics for you. For any `Board` instance\n",
    "`board`, you have access to the following methods:\n",
    "\n",
    "**`board.get_legal_actions()`:** Returns a python set of `Action` class\n",
    "instances. Each element in the set is a valid action that can be applied\n",
    "to the `board` to create a new `Board` instance. See the `Action` API\n",
    "section below.\n",
    "\n",
    "**`board.is_terminal()`:** Returns `True` if `board` is an endgame board.\n",
    "Returns `False` otherwise.\n",
    "\n",
    "**`board.current_player_id()`:** Returns an integer that represents which player\n",
    "is expected to play next. For example, if this method returns 0, then the player\n",
    "who is the first player in some simulation of a game should be the next one to\n",
    "play an action. This is used internally in the `Simulation` class for bookkeeping,\n",
    "but you will need it when you do the backup step of the MCTS algorithm.\n",
    "\n",
    "**`board.reward_vector()`:** Returns a $n$-element tuple, where $n$ is the number\n",
    "of players, that contains the rewards earned by each player at this particular\n",
    "`board`. For Connect Four, $n=2$. Thus this method may return something like\n",
    "`(1,-1)`, meaning the player with ID 0 had a reward of 1, and the player with ID\n",
    "1 has reward -1.\n",
    "\n",
    "### The `Action` Class\n",
    "\n",
    "The `Action` class is for representing a single action that is meant to alter a\n",
    "`board`. We have written a `ConnectFourAction` subclass for you. Instances\n",
    "are hashable, so to check if two actions are the same, `hash(action1) == hash(action2)`\n",
    "can be used.\n",
    "For any `Action`\n",
    "instance `action`, you will only need the following method:\n",
    "\n",
    "**`action.apply(board)`:** Given a `Board` instance `board`, returns a new\n",
    "`Board` instance that represents the board after that action has been\n",
    "performed. If the `action` cannot be applied, an error is thrown.\n",
    "\n",
    "### The `Node` Class\n",
    "\n",
    "The `Node` class represents a single node in the MCTS tree that is constructed\n",
    "during each iteration of the algorithm. You will be interacting with this class\n",
    "the most. If you remember the algorithm, each node contains certain pieces of\n",
    "information that's associated with it. For any `Node` instance `node`, you have\n",
    "the following methods at you disposal:\n",
    "\n",
    "**`Node(board, action, parent)`**: The constructor takes three arguments.\n",
    "First, a `Board` instance `board` that the node will represent. Second,\n",
    "an `Action` instance 'action' that represents the incoming action that created\n",
    "`board`. Finally, a `Node` instance `parent`. For a root node, you would\n",
    "pass `None` in for both `action` and `parent`.\n",
    "\n",
    "**`node.get_board()`:** Returns the `Board` instance that `node` is representing.\n",
    "\n",
    "**`node.get_action()`:** Returns the incoming `Action` instance.\n",
    "\n",
    "**`node.get_parent()`:** Returns the parent `Node` instance.\n",
    "\n",
    "**`node.get_children()`:** Returns a list of `Node` instances that represent\n",
    "the children that have been expanded thus far.\n",
    "\n",
    "**`node.add_child(child)`:** Add a `Node` instance `child` to the list of expanded\n",
    "children under `node`.\n",
    "\n",
    "**`node.get_num_visits()`:** Returns the number of times `node` has been visited.\n",
    "\n",
    "**`node.get_player_id()`:** This just returns `board.current_player_id()`, where\n",
    "`board` is the board that was passed into the constructor.\n",
    "\n",
    "**`node.q_value()`:** Returns the total reward that the `node` has accumulated.\n",
    "This reward is contained in a variable `node.q` that you can access if it needs\n",
    "to be changed during the algorithm.\n",
    "\n",
    "**`node.visit()`:** Doesn't return anything, but increments the internal counter\n",
    "that keeps track of how many times the `node` has been visited.\n",
    "\n",
    "**`node.is_fully_expanded()`:** Return `True` is all children that can be reached\n",
    "from this node have been expanded. Returns `False` otherwise.\n",
    "\n",
    "**`node.value(c)`**: Returns the calculated UCT value for this node. The parameter\n",
    "`c` is the _exploration_ constant.\n",
    "\n",
    "### The `Player` Class\n",
    "\n",
    "The `Player` class represents, you guessed it, a player. You won't have to actually\n",
    "deal with this class at all in this problem set. It exists for running the\n",
    "simulation at the end. However, if you interested, you may look at `game.py`\n",
    "to see what methods are used.\n",
    "\n",
    "### The `Simulation` Class\n",
    "\n",
    "The `Simulation` class is used for setting up a simulation for multiple\n",
    "players to play a game. You again don't need to worry about this class, as it\n",
    "is for running the simulation at the end. Refer to `game.py` if your curious\n",
    "about how it works.\n"
   ]
  },
  {
   "attachments": {},
   "cell_type": "markdown",
   "metadata": {},
   "source": [
    "## Problem Set Code\n",
    "In the following parts, we will ask you to implement the Monte Carlo Tree Search algorithm to beat the bot. You will be implementing the pseudocode starting on page 10 of the [MCTS paper](http://ieeexplore.ieee.org/stamp/stamp.jsp?tp=&arnumber=6145622&tag=1)"
   ]
  },
  {
   "attachments": {},
   "cell_type": "markdown",
   "metadata": {},
   "source": [
    "### Default Policy\n",
    "The first step is to implement the default policy, which plays through an entire game session. It chooses actions at random, applying them to the board until the game is over. It then returns the reward vector of the finished board.\n",
    "\n",
    "<img src=\"figures/default-policy.png\" alt=\"Default Policy Pseudocode\" width=\"350px\"/><br/>\n",
    "<center><em><small>Browne, et al.</small></em></center>\n",
    "\n",
    "**Note:** You can use `random.choice(my_list)` to select a random item from `my_list`"
   ]
  },
  {
   "cell_type": "code",
   "execution_count": 3,
   "metadata": {
    "collapsed": true
   },
   "outputs": [],
   "source": [
    "#######################################################################\n",
    "# randomly picking moves to reach the end game\n",
    "# Input: BOARD, the board that we want to start randomly picking moves\n",
    "# Output: the reward vector when the game terminates\n",
    "#######################################################################\n",
    "def default_policy(board):\n",
    "    # while the board is not terminal, randomly pick a move\n",
    "    while not board.is_terminal():\n",
    "        # choose a random move from the legal moves\n",
    "        a = random.choice(list(board.get_legal_actions()))\n",
    "        # then assign the s board to the next state\n",
    "        board = a.apply(board)\n",
    "    # return the reward vector\n",
    "    return board.reward_vector()"
   ]
  },
  {
   "cell_type": "code",
   "execution_count": 5,
   "metadata": {},
   "outputs": [
    {
     "name": "stdout",
     "output_type": "stream",
     "text": [
      "test passed\n",
      "test passed\n",
      "test passed\n"
     ]
    },
    {
     "data": {
      "text/html": [
       "<div class=\"alert alert-success\">\n",
       "        <strong>Tests passed!!</strong>\n",
       "        </div>"
      ]
     },
     "metadata": {},
     "output_type": "display_data"
    }
   ],
   "source": [
    "test_default_policy(default_policy)"
   ]
  },
  {
   "attachments": {},
   "cell_type": "markdown",
   "metadata": {},
   "source": [
    "### Tree Policy\n",
    "\n",
    "<img src=\"figures/tree-policy.png\" alt=\"Tree Policy Pseudocode\" width=\"250px\"/><br/>\n",
    "<center><em>Tree Policy Pseudocode (Browne, et al.)</em></center>\n",
    "\n",
    "\n",
    "The tree policy performs a depth-first search of the tree using `best_child` and `expand`. If it encounters an unexpanded node it will return the expanded child of that node. Otherwise, it continues its search in the best child of the current node.\n",
    "\n",
    "The `best_child` function find the best child node if a node is fully expanded. It also takes the exploitation constant as an argument.\n",
    "\n",
    "The `expand` function expands a node that has unexpanded children. It must get all current children of the node and all possible children of the node then add one of the possible children to the node. It should then return this newly added child."
   ]
  },
  {
   "attachments": {},
   "cell_type": "markdown",
   "metadata": {},
   "source": [
    "### Best Child\n",
    "<img src=\"figures/best-child.png\" alt=\"Best Child Pseudocode\" width=\"400px\"/><br/>\n",
    "<center><em><small>Browne, et al.</small></em></center>\n",
    "\n",
    "**Note:** For convenience, we've implemented a function that returns the heuristic inside the max operator. Look at the function `node.value(c)` for the `NODE` class API and save yourself the headache."
   ]
  },
  {
   "cell_type": "code",
   "execution_count": 6,
   "metadata": {
    "collapsed": true
   },
   "outputs": [],
   "source": [
    "###########################################################\n",
    "# get the best child from this node (using heuristic)\n",
    "# Input: NODE, the node we want to find the best child of\n",
    "#        C,    the exploitation constant\n",
    "# Output: the child node\n",
    "###########################################################\n",
    "def best_child(node, c):\n",
    "    # find the argmax of the children of the node\n",
    "    return max(node.children, key=lambda child: child.value(c))"
   ]
  },
  {
   "cell_type": "code",
   "execution_count": 7,
   "metadata": {},
   "outputs": [
    {
     "name": "stdout",
     "output_type": "stream",
     "text": [
      "test passed\n"
     ]
    },
    {
     "data": {
      "text/html": [
       "<div class=\"alert alert-success\">\n",
       "        <strong>Tests passed!!</strong>\n",
       "        </div>"
      ]
     },
     "metadata": {},
     "output_type": "display_data"
    }
   ],
   "source": [
    "test_best_child(best_child)"
   ]
  },
  {
   "attachments": {},
   "cell_type": "markdown",
   "metadata": {},
   "source": [
    "### Expand\n",
    "<img src=\"figures/expand.png\" alt=\"Expand Pseudocode\" width=\"400px\"/><br/>\n",
    "<center><em><small>Browne, et al.</small></em></center>"
   ]
  },
  {
   "cell_type": "code",
   "execution_count": 29,
   "metadata": {},
   "outputs": [],
   "source": [
    "###########################################################\n",
    "# expand a node since it is not fully expanded\n",
    "# Input: NODE, a node that want to be expanded\n",
    "# Output: the child node\n",
    "###########################################################\n",
    "def expand(node):\n",
    "    # choose a from untried actions from A(s(v))\n",
    "    legal_actions = node.board.get_legal_actions()\n",
    "    # get the child actions\n",
    "    children_actions = set([child.action for child in node.children])\n",
    "    # get the untried actions\n",
    "    a = legal_actions - children_actions\n",
    "    # apply a to get the next state s\n",
    "    new_child = Node(a.apply(node.board))\n",
    "    # set the action of the child to a\n",
    "    new_child.action = a\n",
    "    # add the child to the children of the node\n",
    "    node.children.append(new_child)\n",
    "    # update the parent\n",
    "    new_child.parent = node\n",
    "    # return the child\n",
    "    return new_child"
   ]
  },
  {
   "cell_type": "code",
   "execution_count": 30,
   "metadata": {},
   "outputs": [
    {
     "name": "stdout",
     "output_type": "stream",
     "text": [
      "Exception occured testing expand on board:\n",
      "5 - - - - - - -\n",
      "4 - - - - - - -\n",
      "3 - - - - - - -\n",
      "2 - - - - - - -\n",
      "1 - - - - - - -\n",
      "0 - R - B - R -\n",
      "  0 1 2 3 4 5 6\n"
     ]
    },
    {
     "ename": "AttributeError",
     "evalue": "'set' object has no attribute 'apply'",
     "output_type": "error",
     "traceback": [
      "\u001b[1;31m---------------------------------------------------------------------------\u001b[0m",
      "\u001b[1;31mAttributeError\u001b[0m                            Traceback (most recent call last)",
      "\u001b[1;32mc:\\Users\\1\\Desktop\\SI140A\\SI140A-final_project\\MCTS project\\Project-MCTS.ipynb 单元格 17\u001b[0m in \u001b[0;36m<cell line: 1>\u001b[1;34m()\u001b[0m\n\u001b[1;32m----> <a href='vscode-notebook-cell:/c%3A/Users/1/Desktop/SI140A/SI140A-final_project/MCTS%20project/Project-MCTS.ipynb#X22sZmlsZQ%3D%3D?line=0'>1</a>\u001b[0m test_expand(expand)\n",
      "File \u001b[1;32mc:\\Users\\1\\Desktop\\SI140A\\SI140A-final_project\\MCTS project\\tests.py:136\u001b[0m, in \u001b[0;36mtest_expand\u001b[1;34m(expand)\u001b[0m\n\u001b[0;32m    134\u001b[0m     \u001b[39mprint\u001b[39m (\u001b[39m\"\u001b[39m\u001b[39mException occured testing expand on board:\u001b[39m\u001b[39m\"\u001b[39m)\n\u001b[0;32m    135\u001b[0m     board\u001b[39m.\u001b[39mvisualize()\n\u001b[1;32m--> 136\u001b[0m     \u001b[39mraise\u001b[39;00m ex\n\u001b[0;32m    137\u001b[0m \u001b[39mprint\u001b[39m(\u001b[39m\"\u001b[39m\u001b[39mtest passed\u001b[39m\u001b[39m\"\u001b[39m)\n",
      "File \u001b[1;32mc:\\Users\\1\\Desktop\\SI140A\\SI140A-final_project\\MCTS project\\tests.py:125\u001b[0m, in \u001b[0;36mtest_expand\u001b[1;34m(expand)\u001b[0m\n\u001b[0;32m    123\u001b[0m \u001b[39mtry\u001b[39;00m:\n\u001b[0;32m    124\u001b[0m     \u001b[39mfor\u001b[39;00m iteration \u001b[39min\u001b[39;00m \u001b[39mrange\u001b[39m(\u001b[39m7\u001b[39m):\n\u001b[1;32m--> 125\u001b[0m         new_child \u001b[39m=\u001b[39m expand(root)\n\u001b[0;32m    126\u001b[0m         in_child \u001b[39m=\u001b[39m \u001b[39many\u001b[39m([\u001b[39mhash\u001b[39m(child\u001b[39m.\u001b[39mget_action()) \u001b[39m==\u001b[39m \u001b[39mhash\u001b[39m(new_child\u001b[39m.\u001b[39mget_action()) \u001b[39mfor\u001b[39;00m child \u001b[39min\u001b[39;00m children])\n\u001b[0;32m    127\u001b[0m         assert_equal(in_child, \u001b[39mTrue\u001b[39;00m)\n",
      "\u001b[1;32mc:\\Users\\1\\Desktop\\SI140A\\SI140A-final_project\\MCTS project\\Project-MCTS.ipynb 单元格 17\u001b[0m in \u001b[0;36mexpand\u001b[1;34m(node)\u001b[0m\n\u001b[0;32m     <a href='vscode-notebook-cell:/c%3A/Users/1/Desktop/SI140A/SI140A-final_project/MCTS%20project/Project-MCTS.ipynb#X22sZmlsZQ%3D%3D?line=11'>12</a>\u001b[0m a \u001b[39m=\u001b[39m legal_actions \u001b[39m-\u001b[39m children_actions\n\u001b[0;32m     <a href='vscode-notebook-cell:/c%3A/Users/1/Desktop/SI140A/SI140A-final_project/MCTS%20project/Project-MCTS.ipynb#X22sZmlsZQ%3D%3D?line=12'>13</a>\u001b[0m \u001b[39m# apply a to get the next state s\u001b[39;00m\n\u001b[1;32m---> <a href='vscode-notebook-cell:/c%3A/Users/1/Desktop/SI140A/SI140A-final_project/MCTS%20project/Project-MCTS.ipynb#X22sZmlsZQ%3D%3D?line=13'>14</a>\u001b[0m new_child \u001b[39m=\u001b[39m Node(a\u001b[39m.\u001b[39;49mapply(node\u001b[39m.\u001b[39mboard))\n\u001b[0;32m     <a href='vscode-notebook-cell:/c%3A/Users/1/Desktop/SI140A/SI140A-final_project/MCTS%20project/Project-MCTS.ipynb#X22sZmlsZQ%3D%3D?line=14'>15</a>\u001b[0m \u001b[39m# set the action of the child to a\u001b[39;00m\n\u001b[0;32m     <a href='vscode-notebook-cell:/c%3A/Users/1/Desktop/SI140A/SI140A-final_project/MCTS%20project/Project-MCTS.ipynb#X22sZmlsZQ%3D%3D?line=15'>16</a>\u001b[0m new_child\u001b[39m.\u001b[39maction \u001b[39m=\u001b[39m a\n",
      "\u001b[1;31mAttributeError\u001b[0m: 'set' object has no attribute 'apply'"
     ]
    }
   ],
   "source": [
    "test_expand(expand)"
   ]
  },
  {
   "attachments": {},
   "cell_type": "markdown",
   "metadata": {},
   "source": [
    "### Tree Policy\n",
    "<img src=\"figures/tree-policy.png\" alt=\"Tree Policy Pseudocode\" width=\"250px\"/><br/>\n",
    "<center><em><small>Browne, et al.</small></em></center>"
   ]
  },
  {
   "cell_type": "code",
   "execution_count": 32,
   "metadata": {
    "collapsed": true
   },
   "outputs": [],
   "source": [
    "###########################################################\n",
    "# heuristically search to the leaf level\n",
    "# Input: NODE, a node that want to search down \n",
    "#        C, the exploitation value\n",
    "# Output: the leaf node that we expand till\n",
    "##########################################################\n",
    "def tree_policy(node, c):\n",
    "    # while v is non-terminal\n",
    "    while not node.board.is_terminal():\n",
    "        # if v is not fully expanded\n",
    "        if not node.is_fully_expanded():\n",
    "            # return the new child node\n",
    "            return expand(node)\n",
    "        # else\n",
    "        else:\n",
    "            # assign the bestchild to the best child of the node with v and cp\n",
    "            node = best_child(node, c * node.get_player_id())\n",
    "    # return the node\n",
    "    return node"
   ]
  },
  {
   "cell_type": "code",
   "execution_count": 34,
   "metadata": {},
   "outputs": [
    {
     "name": "stdout",
     "output_type": "stream",
     "text": [
      "test passed\n"
     ]
    },
    {
     "data": {
      "text/html": [
       "<div class=\"alert alert-success\">\n",
       "        <strong>Tests passed!!</strong>\n",
       "        </div>"
      ]
     },
     "metadata": {},
     "output_type": "display_data"
    }
   ],
   "source": [
    "test_tree_policy(tree_policy, expand, best_child)"
   ]
  },
  {
   "attachments": {},
   "cell_type": "markdown",
   "metadata": {},
   "source": [
    "### Backup\n",
    "Now its time to make a way to turn the reward from `default_policy` into the information that `tree_policy` needs. `backup` should take the terminal state and reward from `default_policy` and proceed up the tree, updating the nodes on its path based on the reward.\n",
    "\n",
    "<img src=\"figures/backup.png\" alt=\"Backup Pseudocode\" width=\"250px\"/><br/>\n",
    "<center><em><small>Browne, et al.</small></em></center>"
   ]
  },
  {
   "cell_type": "code",
   "execution_count": 35,
   "metadata": {
    "collapsed": true
   },
   "outputs": [],
   "source": [
    "##############################################################\n",
    "# reward update for the tree after one simulation\n",
    "# Input: NODE, the node that we want to backup from\n",
    "#        REWARD_VECTOR, the reward vector of this exploration\n",
    "# Output: nothing\n",
    "##############################################################\n",
    "def backup(node, reward_vector):\n",
    "    # while the node is not null\n",
    "    while node is not None:\n",
    "        # update the node's visit count\n",
    "        node.num_visits += 1\n",
    "        # q(v) = q(v) + reward_vector(v, p)\n",
    "        node.q += (-reward_vector[node.board.current_player_id()])\n",
    "        # update the node to the parent\n",
    "        node = node.parent"
   ]
  },
  {
   "cell_type": "code",
   "execution_count": 37,
   "metadata": {},
   "outputs": [
    {
     "name": "stdout",
     "output_type": "stream",
     "text": [
      "test passed\n"
     ]
    },
    {
     "data": {
      "text/html": [
       "<div class=\"alert alert-success\">\n",
       "        <strong>Tests passed!!</strong>\n",
       "        </div>"
      ]
     },
     "metadata": {},
     "output_type": "display_data"
    }
   ],
   "source": [
    "test_backup(backup)"
   ]
  },
  {
   "attachments": {},
   "cell_type": "markdown",
   "metadata": {},
   "source": [
    "### Search (UCT)\n",
    "Time to put everything together! Keep running `tree_policy`, `default_policy`, and `backup` until you run out of time! Finally, return the best child's associated action.\n",
    "\n",
    "<img src=\"figures/uct-search.png\" alt=\"Search Pseudocode\" width=\"300px\"/><br/>\n",
    "<center><em><small>Browne, et al.</small></em></center>"
   ]
  },
  {
   "cell_type": "code",
   "execution_count": 39,
   "metadata": {
    "collapsed": true
   },
   "outputs": [],
   "source": [
    "######################################################################\n",
    "# monte carlo tree search algorithm using UCT heuristic\n",
    "# Input: BOARD, the current game board\n",
    "#        TIME_LIMIT, the time limit of the calculation in second\n",
    "# Output: class Action represents the best action to take\n",
    "####################################################################\n",
    "def uct(board, time_limit):\n",
    "    start_time = time.time()\n",
    "    root = Node(board, None, None)\n",
    "    while (time.time() - start_time) < time_limit:\n",
    "        # tree policy\n",
    "        v = tree_policy(root, 1)\n",
    "        # default policy\n",
    "        reward_vector = default_policy(v.board)\n",
    "        # backup\n",
    "        backup(v, reward_vector)\n",
    "    # return the best child of the root\n",
    "    return best_child(root, 0).action"
   ]
  },
  {
   "cell_type": "code",
   "execution_count": 41,
   "metadata": {},
   "outputs": [
    {
     "name": "stdout",
     "output_type": "stream",
     "text": [
      "ConnectFourAction(color=B,col=1,row=3)\n",
      "ConnectFourAction(color=B,col=1,row=3)\n",
      "ConnectFourAction(color=B,col=1,row=3)\n",
      "ConnectFourAction(color=B,col=1,row=3)\n",
      "ConnectFourAction(color=B,col=1,row=3)\n",
      "ConnectFourAction(color=B,col=1,row=3)\n",
      "ConnectFourAction(color=B,col=1,row=3)\n",
      "ConnectFourAction(color=B,col=1,row=3)\n",
      "ConnectFourAction(color=B,col=1,row=3)\n",
      "ConnectFourAction(color=B,col=1,row=3)\n",
      "ConnectFourAction(color=B,col=3,row=3)\n",
      "ConnectFourAction(color=B,col=3,row=3)\n",
      "ConnectFourAction(color=B,col=3,row=3)\n",
      "ConnectFourAction(color=B,col=3,row=3)\n",
      "ConnectFourAction(color=B,col=3,row=3)\n",
      "ConnectFourAction(color=B,col=3,row=3)\n",
      "ConnectFourAction(color=B,col=3,row=3)\n",
      "ConnectFourAction(color=B,col=3,row=3)\n",
      "ConnectFourAction(color=B,col=3,row=3)\n",
      "ConnectFourAction(color=B,col=3,row=3)\n",
      "ConnectFourAction(color=B,col=2,row=2)\n",
      "ConnectFourAction(color=B,col=2,row=2)\n",
      "ConnectFourAction(color=B,col=2,row=2)\n",
      "ConnectFourAction(color=B,col=2,row=2)\n",
      "ConnectFourAction(color=B,col=2,row=2)\n",
      "ConnectFourAction(color=B,col=1,row=2)\n",
      "ConnectFourAction(color=B,col=2,row=2)\n",
      "ConnectFourAction(color=B,col=2,row=2)\n",
      "ConnectFourAction(color=B,col=2,row=2)\n",
      "ConnectFourAction(color=B,col=2,row=2)\n"
     ]
    },
    {
     "data": {
      "text/html": [
       "<div class=\"alert alert-success\">\n",
       "        <strong>Tests passed!!</strong>\n",
       "        </div>"
      ]
     },
     "metadata": {},
     "output_type": "display_data"
    }
   ],
   "source": [
    "test_uct(uct) # this test takes 15-30 seconds"
   ]
  },
  {
   "attachments": {},
   "cell_type": "markdown",
   "metadata": {},
   "source": [
    "## The Final Challenge\n",
    "Time to show Stonn the power of human ingenuity! Win at least 9 out of 10 games to triumph!"
   ]
  },
  {
   "cell_type": "code",
   "execution_count": 44,
   "metadata": {},
   "outputs": [
    {
     "data": {
      "text/html": [
       "\n",
       "        <iframe\n",
       "            width=\"490\"\n",
       "            height=\"216\"\n",
       "            src=\"vis/index.html\"\n",
       "            frameborder=\"0\"\n",
       "            allowfullscreen\n",
       "            \n",
       "        ></iframe>\n",
       "        "
      ],
      "text/plain": [
       "<IPython.lib.display.IFrame at 0x226b04a6070>"
      ]
     },
     "metadata": {},
     "output_type": "display_data"
    },
    {
     "name": "stdout",
     "output_type": "stream",
     "text": [
      "Player 1  won\n"
     ]
    },
    {
     "data": {
      "text/html": [
       "\n",
       "        <iframe\n",
       "            width=\"490\"\n",
       "            height=\"216\"\n",
       "            src=\"vis/index.html\"\n",
       "            frameborder=\"0\"\n",
       "            allowfullscreen\n",
       "            \n",
       "        ></iframe>\n",
       "        "
      ],
      "text/plain": [
       "<IPython.lib.display.IFrame at 0x226affc16d0>"
      ]
     },
     "metadata": {},
     "output_type": "display_data"
    },
    {
     "name": "stdout",
     "output_type": "stream",
     "text": [
      "Player 1  won\n"
     ]
    },
    {
     "data": {
      "text/html": [
       "\n",
       "        <iframe\n",
       "            width=\"490\"\n",
       "            height=\"216\"\n",
       "            src=\"vis/index.html\"\n",
       "            frameborder=\"0\"\n",
       "            allowfullscreen\n",
       "            \n",
       "        ></iframe>\n",
       "        "
      ],
      "text/plain": [
       "<IPython.lib.display.IFrame at 0x226b04891c0>"
      ]
     },
     "metadata": {},
     "output_type": "display_data"
    },
    {
     "name": "stdout",
     "output_type": "stream",
     "text": [
      "Player 1  won\n"
     ]
    },
    {
     "data": {
      "text/html": [
       "\n",
       "        <iframe\n",
       "            width=\"490\"\n",
       "            height=\"216\"\n",
       "            src=\"vis/index.html\"\n",
       "            frameborder=\"0\"\n",
       "            allowfullscreen\n",
       "            \n",
       "        ></iframe>\n",
       "        "
      ],
      "text/plain": [
       "<IPython.lib.display.IFrame at 0x226b00023a0>"
      ]
     },
     "metadata": {},
     "output_type": "display_data"
    },
    {
     "name": "stdout",
     "output_type": "stream",
     "text": [
      "Player 1  won\n"
     ]
    },
    {
     "data": {
      "text/html": [
       "\n",
       "        <iframe\n",
       "            width=\"490\"\n",
       "            height=\"216\"\n",
       "            src=\"vis/index.html\"\n",
       "            frameborder=\"0\"\n",
       "            allowfullscreen\n",
       "            \n",
       "        ></iframe>\n",
       "        "
      ],
      "text/plain": [
       "<IPython.lib.display.IFrame at 0x226b0869a90>"
      ]
     },
     "metadata": {},
     "output_type": "display_data"
    },
    {
     "name": "stdout",
     "output_type": "stream",
     "text": [
      "Player 1  won\n"
     ]
    },
    {
     "data": {
      "text/html": [
       "\n",
       "        <iframe\n",
       "            width=\"490\"\n",
       "            height=\"216\"\n",
       "            src=\"vis/index.html\"\n",
       "            frameborder=\"0\"\n",
       "            allowfullscreen\n",
       "            \n",
       "        ></iframe>\n",
       "        "
      ],
      "text/plain": [
       "<IPython.lib.display.IFrame at 0x226b006e4c0>"
      ]
     },
     "metadata": {},
     "output_type": "display_data"
    },
    {
     "name": "stdout",
     "output_type": "stream",
     "text": [
      "Player 1  won\n"
     ]
    },
    {
     "data": {
      "text/html": [
       "\n",
       "        <iframe\n",
       "            width=\"490\"\n",
       "            height=\"216\"\n",
       "            src=\"vis/index.html\"\n",
       "            frameborder=\"0\"\n",
       "            allowfullscreen\n",
       "            \n",
       "        ></iframe>\n",
       "        "
      ],
      "text/plain": [
       "<IPython.lib.display.IFrame at 0x226b0331400>"
      ]
     },
     "metadata": {},
     "output_type": "display_data"
    },
    {
     "name": "stdout",
     "output_type": "stream",
     "text": [
      "Player 1  won\n"
     ]
    },
    {
     "data": {
      "text/html": [
       "\n",
       "        <iframe\n",
       "            width=\"490\"\n",
       "            height=\"216\"\n",
       "            src=\"vis/index.html\"\n",
       "            frameborder=\"0\"\n",
       "            allowfullscreen\n",
       "            \n",
       "        ></iframe>\n",
       "        "
      ],
      "text/plain": [
       "<IPython.lib.display.IFrame at 0x226b006c100>"
      ]
     },
     "metadata": {},
     "output_type": "display_data"
    },
    {
     "name": "stdout",
     "output_type": "stream",
     "text": [
      "Player 1  won\n"
     ]
    },
    {
     "data": {
      "text/html": [
       "\n",
       "        <iframe\n",
       "            width=\"490\"\n",
       "            height=\"216\"\n",
       "            src=\"vis/index.html\"\n",
       "            frameborder=\"0\"\n",
       "            allowfullscreen\n",
       "            \n",
       "        ></iframe>\n",
       "        "
      ],
      "text/plain": [
       "<IPython.lib.display.IFrame at 0x226b01b6370>"
      ]
     },
     "metadata": {},
     "output_type": "display_data"
    },
    {
     "name": "stdout",
     "output_type": "stream",
     "text": [
      "Player 0  won\n"
     ]
    },
    {
     "data": {
      "text/html": [
       "\n",
       "        <iframe\n",
       "            width=\"490\"\n",
       "            height=\"216\"\n",
       "            src=\"vis/index.html\"\n",
       "            frameborder=\"0\"\n",
       "            allowfullscreen\n",
       "            \n",
       "        ></iframe>\n",
       "        "
      ],
      "text/plain": [
       "<IPython.lib.display.IFrame at 0x226b024f460>"
      ]
     },
     "metadata": {},
     "output_type": "display_data"
    },
    {
     "name": "stdout",
     "output_type": "stream",
     "text": [
      "Player 1  won\n"
     ]
    },
    {
     "data": {
      "text/html": [
       "<div class=\"alert alert-success\">\n",
       "    <strong>You win!!</strong>\n",
       "    </div>\n",
       "\n",
       "<p>Stonn sits back in shock, displaying far more emotion than any Vulcan should.</p>\n",
       "\n",
       "<p>\"Cadet, it looks like your thousands of years in the mud while we Vulcans\n",
       "explored the cosmos were not in vain. Congratulations.\"</p>\n",
       "\n",
       "<p>The class breaks into applause! Whoops and cheers ring through the air as\n",
       "Captain James T. Kirk walks into the classroom to personally award you with\n",
       "the Kobayashi Maru Award For Excellence In Tactics.</p>\n",
       "\n",
       "<p>The unwelcome interruption of your blaring alarm clock brings you back to\n",
       "reality, where in the year 2200 Earth's Daylight Savings Time was finally\n",
       "abolished by the United Federation of Planets.</p>"
      ]
     },
     "metadata": {},
     "output_type": "display_data"
    }
   ],
   "source": [
    "sim.run_final_test(uct)"
   ]
  }
 ],
 "metadata": {
  "git": {
   "suppress_outputs": true
  },
  "kernelspec": {
   "display_name": "Python 3 (ipykernel)",
   "language": "python",
   "name": "python3"
  },
  "language_info": {
   "codemirror_mode": {
    "name": "ipython",
    "version": 3
   },
   "file_extension": ".py",
   "mimetype": "text/x-python",
   "name": "python",
   "nbconvert_exporter": "python",
   "pygments_lexer": "ipython3",
   "version": "3.9.12"
  }
 },
 "nbformat": 4,
 "nbformat_minor": 1
}
