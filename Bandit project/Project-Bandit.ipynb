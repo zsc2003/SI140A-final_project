{
 "cells": [
  {
   "attachments": {},
   "cell_type": "markdown",
   "metadata": {},
   "source": [
    "# Project: Performance Evaluation of Bandit Algorithms\n",
    "\n",
    "- In this project, you will implement several classical bandit algorithms, evluate their performance via numerical comparison and finally gain inspiring intuition."
   ]
  },
  {
   "attachments": {},
   "cell_type": "markdown",
   "metadata": {},
   "source": [
    "## Part I: Classical Bandit Algorithms\n",
    "\n",
    "We consider a time-slotted bandit system ($t=1,2,\\ldots$) with three arms.\n",
    "We denote the arm set as $\\{1,2,3\\}$.\n",
    "Pulling each arm $j$ ($ j \\in \\{1,2,3\\}$) will obtain a random reward $r_{j}$, which follows a Bernoulli distribution with mean $\\theta_{j}$, *i.e.*, Bern($\\theta_{j}$).\n",
    "Specifically,\n",
    "\n",
    "\\begin{equation*}\n",
    "\t\\begin{aligned}\n",
    "\t\tr_{j} = \n",
    "\t\t\\begin{cases}\n",
    "\t\t\t1, & w.p.\\ \\theta_{j}, \\\\\n",
    "\t\t\t0, & w.p.\\ 1-\\theta_{j},\t\t\t\n",
    "\t\t\\end{cases}\n",
    "\t\\end{aligned}\n",
    "\\end{equation*}\n",
    "where $\\theta_{j}, j \\in\\{1,2,3\\}$ are parameters within $(0,1)$.\n",
    "  \n",
    "Now we run this bandit system for $N$ ($N \\gg 3$) time slots.\n",
    "In each time slot $t$, we choose one and only one arm from these three arms, which we denote as $I(t) \\in \\{1,2,3\\}$.\n",
    "Then we pull the arm $I(t)$ and obtain a random reward $r_{I(t)}$.\n",
    "Our objective is to find an optimal policy to choose an arm $I(t)$ in each time slot $t$ such that the expectation of the aggregated reward over $N$ time slots is maximized, *i.e.*,\n",
    "\n",
    "\\begin{equation*}\n",
    "\t\\begin{aligned}\n",
    "\t\t\\max_{I(t),t = 1,\\dots,N} \\ \\  \\mathbb{E}\\left[\\sum_{t=1}^{N} r_{I(t)} \\right].\n",
    "\t\\end{aligned}  \t\n",
    "\\end{equation*}\n",
    "\n",
    "If we know the values of $\\theta_{j},j \\in \\{1,2,3\\}$, this problem is trivial.\n",
    "Since $r_{I(t)} \\sim \\text{Bern}(\\theta_{I(t)})$,\n",
    "\n",
    "\\begin{equation*}\n",
    "\t\\begin{aligned}\n",
    "\t\t\\mathbb{E}\\left[\\sum_{t=1}^N r_{I(t)} \\right] \n",
    "\t\t= \\sum_{t=1}^{N} \\mathbb{E}[r_{I(t)}] \n",
    "\t\t= \\sum_{t=1}^N \\theta_{I(t)}.\n",
    "\t\\end{aligned} \t\n",
    "\\end{equation*}\n",
    "\n",
    "Let $I(t) = I^{*} = \\mathop{\\arg \\max}\\limits_{ j \\in \\{1,2,3\\}} \\ \\theta_j$ for $t=1,2,\\ldots,N$, then \n",
    "\n",
    "\\begin{equation*}\n",
    "\t\\begin{aligned}\n",
    "\t\t\\max_{I(t),t=1,\\ldots,N} \\ \\  \\mathbb{E}\\left[\\sum_{t=1}^N r_{I(t)} \\right] = N \\cdot \\theta_{I^*}.\n",
    "\t\\end{aligned} \t\n",
    "\\end{equation*}\n",
    "\n",
    "However, in reality, we do not know the values of $\\theta_{j},j \\in \\{1,2,3\\}$.\n",
    "We need to estimate the values $\\theta_{j}, j \\in \\{1,2,3\\}$ via empirical samples, and then make the decisions in each time slot. \n",
    "Next we introduce three classical bandit algorithms: $\\epsilon$-greedy, UCB, and TS, respectively."
   ]
  },
  {
   "attachments": {},
   "cell_type": "markdown",
   "metadata": {},
   "source": [
    "### $\\epsilon$-greedy Algorithm ($0 \\leq \\epsilon \\leq 1$)\n",
    "<img src=\"figures/e-greedy.jpg\" width=\"50%\" align='left'>"
   ]
  },
  {
   "attachments": {},
   "cell_type": "markdown",
   "metadata": {},
   "source": [
    "### UCB (Upper Confidence Bound) Algorithm\n",
    "<img src=\"figures/UCB.jpg\" width=\"50%\" align='left'>"
   ]
  },
  {
   "attachments": {},
   "cell_type": "markdown",
   "metadata": {},
   "source": [
    "### TS (Thompson Sampling) Algorithm\n",
    "<img src=\"figures/TS.jpg\" width=\"50%\" align='left'>"
   ]
  },
  {
   "attachments": {},
   "cell_type": "markdown",
   "metadata": {},
   "source": [
    "### Problems"
   ]
  },
  {
   "attachments": {},
   "cell_type": "markdown",
   "metadata": {},
   "source": [
    "1. Now suppose we obtain the parameters of the Bernoulli distributions from an oracle, which are shown in the following table. Choose $N=5000$ and compute the theoretically maximized expectation of aggregate rewards over $N$ time slots. We call it the oracle value. Note that these parameters $\\theta_{j}, j \\in \\{1,2,3\\}$ and oracle values are unknown to all bandit algorithms.\n",
    "\n",
    "| Arm $j$ | 1   | 2   | 3   |\n",
    "|---------|-----|-----|-----|\n",
    "| $\\theta_j$ | 0.7 | 0.5 | 0.4 |"
   ]
  },
  {
   "attachments": {},
   "cell_type": "markdown",
   "metadata": {},
   "source": [
    "**Your anwser of problem 1 in Part I**"
   ]
  },
  {
   "attachments": {},
   "cell_type": "markdown",
   "metadata": {},
   "source": [
    "---\n",
    "# Answer of Problem 1 in Part I\n",
    "---\n",
    "Since each arm's parameter is oracled.\n",
    "\n",
    "So we just need to choose the arm with the largest parameter to have the maximum expectation of aggregate rewards over $N$ time slots.\n",
    "\n",
    "Since $\\theta_1 = 0.7, \\theta_2 = 0.5, \\theta_3 = 0.4$,\n",
    "\n",
    "so $\\theta_1 > \\theta_2 > \\theta_3$,\n",
    "\n",
    "so we choose arm 1 everytime.\n",
    "\n",
    "i.e. $$\\forall t, I(t)=I^*=\\argmax_{j\\in\\{1,2,3\\}}\\theta_j=1$$\n",
    "$$\\theta_{I(t)} = \\theta_1 = 0.7$$\n",
    "\n",
    "Also, since $r_{I(t)} \\sim \\text{Bern}(\\theta_{I(t)})$.\n",
    "\n",
    "So $E(r_{I(t)}) = \\theta_{I(t)}$.\n",
    "\n",
    "So the maximum expected value is \n",
    "$$\\max_{I(t),t=1,2,\\cdots,N}\\ E\\big[\\sum_{t=1}^Nr_{I(t)}\\big]$$\n",
    "$$=\\max_{I(t),t=1,2,\\cdots,N}\\ \\sum_{t=1}^NE\\big[r_{I(t)}\\big]$$\n",
    "$$=N \\cdot \\theta_{I^*} = 5000 \\times 0.7 = 3500$$\n",
    "\n",
    "So above all, with the given oracle parameters, the maximum expected value is 3500.\n",
    "\n",
    "---"
   ]
  },
  {
   "attachments": {},
   "cell_type": "markdown",
   "metadata": {},
   "source": [
    "2. Implement aforemented three classical bandit algorithms with following settings: \n",
    "   \n",
    "\t- $N=5000$\n",
    "\t- $\\epsilon$-greedy with $\\epsilon \\in \\{0.1, 0.5, 0.9\\}$.\n",
    "\t- UCB with $c \\in \\{1,5,10\\}$.\n",
    "\t- TS with\n",
    "    \t- $\\left\\{(\\alpha_1,\\beta_1)=(1,1),(\\alpha_2,\\beta_2)=(1,1),(\\alpha_3,\\beta_3)=(1,1)\\right\\}$ \n",
    "    \t- $\\left\\{(\\alpha_1,\\beta_1)=(601,401),(\\alpha_2,\\beta_2)=(401,601),(\\alpha_3,\\beta_3)=(2,3)\\right\\}$"
   ]
  },
  {
   "attachments": {},
   "cell_type": "markdown",
   "metadata": {},
   "source": [
    "**Your anwser of problem 2 in Part I**"
   ]
  },
  {
   "attachments": {},
   "cell_type": "markdown",
   "metadata": {},
   "source": [
    "---\n",
    "# Answer of Problem 2 in Part I\n",
    "---"
   ]
  },
  {
   "cell_type": "code",
   "execution_count": 2,
   "metadata": {},
   "outputs": [],
   "source": [
    "import matplotlib.pyplot as plt\n",
    "import numpy as np\n",
    "import random, math, copy\n",
    "### Import more packages if you need\n",
    "\n",
    "import tqdm\n",
    "import matplotlib.pyplot as plt"
   ]
  },
  {
   "attachments": {},
   "cell_type": "markdown",
   "metadata": {},
   "source": [
    "---\n",
    "# The initialization of the parameters of different algorithms"
   ]
  },
  {
   "cell_type": "code",
   "execution_count": 3,
   "metadata": {},
   "outputs": [],
   "source": [
    "### Feel free to insert more blocks or helper functions if you need.\n",
    "\n",
    "# since the arm's index are {1,2,3}\n",
    "# so we need to add a 0 at index 0\n",
    "# to make the index of arm's count and theta match the arm's index\n",
    "\n",
    "theta_oracled = [0, 0.7, 0.5, 0.4] # the oracled theta of each arm\n",
    "\n",
    "count = []\n",
    "theta = []\n",
    "\n",
    "def init_greedy():\n",
    "    global count, theta\n",
    "    count = [0, 0, 0, 0] # the initial count of each arm \n",
    "    theta = [0, 0, 0, 0] # the initial theta of each arm\n",
    "\n",
    "def init_UCB():\n",
    "    global count, theta\n",
    "    count = [0, 1, 1, 1] # the initial count of each arm \n",
    "    theta = [0, 0, 0, 0] # the initial theta of each arm\n",
    "    for t in range(1, 4):\n",
    "        arm = t\n",
    "        count[arm] = 1\n",
    "        r_i = np.random.binomial(1, theta_oracled[arm]) # R_I(t) ~ Bern(theta_oracled[I(t)])\n",
    "        theta[arm] = r_i\n",
    "\n",
    "def init_TS():\n",
    "    global count, theta\n",
    "    count = [0, 0, 0, 0] # the initial count of each arm \n",
    "    theta = [0, 0, 0, 0] # the initial theta of each arm"
   ]
  },
  {
   "attachments": {},
   "cell_type": "markdown",
   "metadata": {},
   "source": [
    "---\n",
    "# 1. The epsilon-greedy Algorithm"
   ]
  },
  {
   "cell_type": "code",
   "execution_count": 3,
   "metadata": {},
   "outputs": [],
   "source": [
    "### Implementation of epsilon-Greedy:\n",
    "### n is the number of time slots, epsilon is the parameter of the algorithm\n",
    "### return the total reward\n",
    "def greedy(n, epsilon):\n",
    "    global count, theta\n",
    "    init_greedy() # initialize the count and theta of each arm\n",
    "\n",
    "    sum_theta = 0\n",
    "\n",
    "    for t in range(1, n + 1): # the time slot\n",
    "        prob = random.random() # return value is in [0, 1)\n",
    "        arm = None # the arm to be chosen\n",
    "        if prob < epsilon: # explore (with probability epsilon)\n",
    "            arm = random.randint(1, 3) # randomly choose an arm from {1,2,3}\n",
    "        else: # exploit (with probability 1 - epsilon)\n",
    "            arm = np.argmax(theta) # choose the best arm\n",
    "            if arm == 0: # if this happened, it means that all the theta are 0\n",
    "                # so we can randomly choose an arm from {1,2,3}\n",
    "                arm = random.randint(1, 3) # randomly choose an arm from {1,2,3}\n",
    "        \n",
    "        # print(\"time slot: \", t, \" arm: \", arm)\n",
    "        sum_theta += theta[arm] # update the sum of theta\n",
    "        r_i = np.random.binomial(1, theta_oracled[arm]) # r_i ~ Bern(theta_oracled[arm])\n",
    "\n",
    "        count[arm] += 1 # update the count of the chosen arm\n",
    "        theta[arm] += 1 / count[arm] * (r_i - theta[arm]) # update the theta of the chosen arm\n",
    "    \n",
    "    reward = count[1] * theta[1] + count[2] * theta[2] + count[3] * theta[3] # the expectation of the reward\n",
    "    regret = n * np.max(theta) - sum_theta # the regret\n",
    "    return reward, regret # return the total reward and regret"
   ]
  },
  {
   "attachments": {},
   "cell_type": "markdown",
   "metadata": {},
   "source": [
    "---\n",
    "# 2. The UCB Algorithm"
   ]
  },
  {
   "cell_type": "code",
   "execution_count": 4,
   "metadata": {},
   "outputs": [],
   "source": [
    "### Implementation of UCB Algorithm:\n",
    "### n is the number of time slots, c is the parameter of the algorithm\n",
    "### return the total reward\n",
    "def UCB(n, c):\n",
    "    global count, theta\n",
    "    init_UCB() # initialize the count and theta of each arm\n",
    "    sum_theta = theta[1] + theta[2] + theta[3]\n",
    "    \n",
    "    for t in range(4, n + 1):\n",
    "        arm = np.argmax([theta[i] + c * math.sqrt(2 * math.log(t) / count[i]) for i in range(1, 4)]) + 1\n",
    "        r_i = np.random.binomial(1, theta_oracled[arm]) # r_i ~ Bern(theta_oracled[arm])\n",
    "        \n",
    "        count[arm] += 1 # update the count of the chosen arm\n",
    "        theta[arm] += 1 / count[arm] * (r_i - theta[arm]) # update the theta of the chosen arm\n",
    "    \n",
    "        sum_theta += theta[arm]\n",
    "\n",
    "    reward = count[1] * theta[1] + count[2] * theta[2] + count[3] * theta[3] # the expectation of the reward\n",
    "    regret = n * np.max(theta) - sum_theta # the regret\n",
    "    return reward, regret # return the total reward and regret"
   ]
  },
  {
   "attachments": {},
   "cell_type": "markdown",
   "metadata": {},
   "source": [
    "---\n",
    "# 3. The Thompson Sampling Algorithm"
   ]
  },
  {
   "cell_type": "code",
   "execution_count": 28,
   "metadata": {},
   "outputs": [],
   "source": [
    "### Implementation of TS Algorithm\n",
    "### n is the number of time slots, a and b are the parameters of the algorithm\n",
    "### return the total reward\n",
    "def TS(n, a, b):\n",
    "    global count, theta\n",
    "    init_TS()\n",
    "    reward = 0 # the expectation of the reward\n",
    "    sum_theta = 0 # the sum of theta\n",
    "    max_theta = 0 # the max theta\n",
    "\n",
    "    for t in range(1, n + 1):\n",
    "        for i in range(1, 4):\n",
    "            theta[i] = np.random.beta(a[i], b[i]) # theta[i] ~ Beta(a[i], b[i])\n",
    "        arm = np.argmax(theta[1:4]) + 1 # choose the best arm\n",
    "        r_i = np.random.binomial(1, theta_oracled[arm]) # r_i ~ Bern(theta_oracled[arm])\n",
    "\n",
    "        a[arm] += r_i # update a[arm]\n",
    "        b[arm] += 1 - r_i # update b[arm]\n",
    "\n",
    "        reward += r_i # update the expectation of the reward\n",
    "        sum_theta += theta[arm] # update the sum of theta\n",
    "        max_theta = np.max([max_theta, np.max(theta[1:4])]) # update the max theta\n",
    "    \n",
    "    regret = n * max_theta - sum_theta # the regret\n",
    "    return reward, regret # return the total reward and regret"
   ]
  },
  {
   "attachments": {},
   "cell_type": "markdown",
   "metadata": {},
   "source": [
    "3. Regard each of the above setting in problem 2 of Part I as an experiment (in total $8$ experiments).\n",
    "Run each experiment $200$ independent trials (change the random seed).\n",
    "Plot the final result (in terms of rewards and regrets) averaged over these $200$ trials."
   ]
  },
  {
   "attachments": {},
   "cell_type": "markdown",
   "metadata": {},
   "source": [
    "**Your anwser of problem 3 in Part I**"
   ]
  },
  {
   "attachments": {},
   "cell_type": "markdown",
   "metadata": {},
   "source": [
    "---\n",
    "# Answer of Problem 3 in Part I\n",
    "---\n",
    "# settings"
   ]
  },
  {
   "cell_type": "code",
   "execution_count": 4,
   "metadata": {},
   "outputs": [],
   "source": [
    "N = 5000\n",
    "repeat_time = 200"
   ]
  },
  {
   "attachments": {},
   "cell_type": "markdown",
   "metadata": {},
   "source": [
    "# 1. The epsilon-greedy Algorithm\n",
    "---"
   ]
  },
  {
   "cell_type": "code",
   "execution_count": 7,
   "metadata": {},
   "outputs": [
    {
     "name": "stderr",
     "output_type": "stream",
     "text": [
      "100%|██████████| 200/200 [00:13<00:00, 14.67it/s]\n",
      "100%|██████████| 200/200 [00:10<00:00, 19.98it/s]\n",
      "100%|██████████| 200/200 [00:07<00:00, 27.04it/s]\n"
     ]
    }
   ],
   "source": [
    "### Your code for problem 1.3. Feel free to insert more blocks or helper functions if you need.\n",
    "\n",
    "epsilon = [0.1, 0.5, 0.9]\n",
    "rewards = [0, 0, 0]\n",
    "regrets = [0, 0, 0]\n",
    "\n",
    "for i in range(3):\n",
    "    for _ in tqdm.tqdm(range(repeat_time)):\n",
    "        reward, regret = greedy(N, epsilon[i])\n",
    "        rewards[i] += reward / repeat_time\n",
    "        regrets[i] += regret / repeat_time"
   ]
  },
  {
   "cell_type": "code",
   "execution_count": 9,
   "metadata": {},
   "outputs": [
    {
     "name": "stdout",
     "output_type": "stream",
     "text": [
      "epsilon =  0.1  reward =  3401.039999999999  regret =  96.25954669680347\n",
      "epsilon =  0.5  reward =  3081.265000000001  regret =  418.0533831467074\n",
      "epsilon =  0.9  reward =  2749.7150000000024  regret =  755.1482363262036\n"
     ]
    },
    {
     "data": {
      "text/plain": [
       "([<matplotlib.axis.XTick at 0x18ff379f370>,\n",
       "  <matplotlib.axis.XTick at 0x18ff379f340>,\n",
       "  <matplotlib.axis.XTick at 0x18ff3779100>],\n",
       " [Text(0, 0, ''), Text(0, 0, ''), Text(0, 0, '')])"
      ]
     },
     "execution_count": 9,
     "metadata": {},
     "output_type": "execute_result"
    },
    {
     "data": {
      "image/png": "[encoded data removed]",
      "text/plain": [
       "<Figure size 432x288 with 1 Axes>"
      ]
     },
     "metadata": {
      "needs_background": "light"
     },
     "output_type": "display_data"
    }
   ],
   "source": [
    "# plot the result\n",
    "for i in range(len(epsilon)):\n",
    "    print(\"epsilon = \", epsilon[i], \" reward = \", rewards[i], \" regret = \", regrets[i])\n",
    "\n",
    "plt.plot(epsilon,rewards)\n",
    "plt.plot(epsilon,regrets)\n",
    "plt.scatter(epsilon, rewards, c = 'red')\n",
    "plt.scatter(epsilon, regrets, c = 'red')\n",
    "\n",
    "plt.legend([\"reward\", \"regret\"])\n",
    "plt.xlabel(\"epsilon\")\n",
    "plt.ylabel(\"reward/regret\")\n",
    "plt.title(\"epsilon-Greedy Algorithm\")\n",
    "plt.xticks(epsilon)"
   ]
  },
  {
   "attachments": {},
   "cell_type": "markdown",
   "metadata": {},
   "source": [
    "# further exploration of the epsilon-greedy Algorithm\n",
    "To have a further exploration on the epsilon-greedy Algorithm,\n",
    "\n",
    "we can set the epsilon to be a function of time.\n",
    "\n",
    "i.e.\n",
    "\n",
    "1. inverse ratio: $\\epsilon(t) = \\dfrac{1}{t}$\n",
    "\n",
    "2. linear: $\\epsilon(t) = -\\dfrac{1}{N}t + 1$\n",
    "\n",
    "3. the logarithmic function: $\\epsilon(t) = \\dfrac{1}{\\log(t)+1}$\n",
    "\n",
    "4. the exponential function: $\\epsilon(t) = 0.95^t$\n",
    "\n",
    "And we can put them into experiment to test the performance of the epsilon-greedy Algorithm."
   ]
  },
  {
   "cell_type": "code",
   "execution_count": 5,
   "metadata": {},
   "outputs": [],
   "source": [
    "def greedy_function(n, epsilon): # same as the original greedy algorithm\n",
    "                        # but the epsilon is a function epsilon(t)\n",
    "    global count, theta\n",
    "    init_greedy() # initialize the count and theta of each arm\n",
    "\n",
    "    sum_theta = 0\n",
    "\n",
    "    for t in range(1, n + 1): # the time slot\n",
    "        prob = random.random() # return value is in [0, 1)\n",
    "        arm = None # the arm to be chosen\n",
    "        if prob < epsilon[t]: # explore (with probability epsilon)\n",
    "            arm = random.randint(1, 3) # randomly choose an arm from {1,2,3}\n",
    "        else: # exploit (with probability 1 - epsilon)\n",
    "            arm = np.argmax(theta) # choose the best arm\n",
    "            if arm == 0: # if this happened, it means that all the theta are 0\n",
    "                # so we can randomly choose an arm from {1,2,3}\n",
    "                arm = random.randint(1, 3) # randomly choose an arm from {1,2,3}\n",
    "        \n",
    "        # print(\"time slot: \", t, \" arm: \", arm)\n",
    "        sum_theta += theta[arm] # update the sum of theta\n",
    "        r_i = np.random.binomial(1, theta_oracled[arm]) # r_i ~ Bern(theta_oracled[arm])\n",
    "\n",
    "        count[arm] += 1 # update the count of the chosen arm\n",
    "        theta[arm] += 1 / count[arm] * (r_i - theta[arm]) # update the theta of the chosen arm\n",
    "    \n",
    "    reward = count[1] * theta[1] + count[2] * theta[2] + count[3] * theta[3] # the expectation of the reward\n",
    "    regret = n * np.max(theta) - sum_theta # the regret\n",
    "    return reward, regret # return the total reward and regret"
   ]
  },
  {
   "cell_type": "code",
   "execution_count": 8,
   "metadata": {},
   "outputs": [
    {
     "name": "stderr",
     "output_type": "stream",
     "text": [
      "  0%|          | 0/200 [00:00<?, ?it/s]"
     ]
    },
    {
     "name": "stderr",
     "output_type": "stream",
     "text": [
      " 11%|█         | 22/200 [00:01<00:10, 16.65it/s]\n"
     ]
    },
    {
     "ename": "KeyboardInterrupt",
     "evalue": "",
     "output_type": "error",
     "traceback": [
      "\u001b[1;31m---------------------------------------------------------------------------\u001b[0m",
      "\u001b[1;31mKeyboardInterrupt\u001b[0m                         Traceback (most recent call last)",
      "\u001b[1;32md:\\!!shanghaitech\\概率论SI140A\\SI140A-final_project\\Bandit project\\Project-Bandit.ipynb 单元格 31\u001b[0m in \u001b[0;36m<cell line: 13>\u001b[1;34m()\u001b[0m\n\u001b[0;32m     <a href='vscode-notebook-cell:/d%3A/%21%21shanghaitech/%E6%A6%82%E7%8E%87%E8%AE%BASI140A/SI140A-final_project/Bandit%20project/Project-Bandit.ipynb#X42sZmlsZQ%3D%3D?line=12'>13</a>\u001b[0m \u001b[39mfor\u001b[39;00m i \u001b[39min\u001b[39;00m \u001b[39mrange\u001b[39m(\u001b[39m4\u001b[39m):\n\u001b[0;32m     <a href='vscode-notebook-cell:/d%3A/%21%21shanghaitech/%E6%A6%82%E7%8E%87%E8%AE%BASI140A/SI140A-final_project/Bandit%20project/Project-Bandit.ipynb#X42sZmlsZQ%3D%3D?line=13'>14</a>\u001b[0m     \u001b[39mfor\u001b[39;00m _ \u001b[39min\u001b[39;00m tqdm\u001b[39m.\u001b[39mtqdm(\u001b[39mrange\u001b[39m(repeat_time)):\n\u001b[1;32m---> <a href='vscode-notebook-cell:/d%3A/%21%21shanghaitech/%E6%A6%82%E7%8E%87%E8%AE%BASI140A/SI140A-final_project/Bandit%20project/Project-Bandit.ipynb#X42sZmlsZQ%3D%3D?line=14'>15</a>\u001b[0m         reward, regret \u001b[39m=\u001b[39m greedy_function(N, epsilon[i])\n\u001b[0;32m     <a href='vscode-notebook-cell:/d%3A/%21%21shanghaitech/%E6%A6%82%E7%8E%87%E8%AE%BASI140A/SI140A-final_project/Bandit%20project/Project-Bandit.ipynb#X42sZmlsZQ%3D%3D?line=15'>16</a>\u001b[0m         rewards[i] \u001b[39m+\u001b[39m\u001b[39m=\u001b[39m reward \u001b[39m/\u001b[39m repeat_time\n\u001b[0;32m     <a href='vscode-notebook-cell:/d%3A/%21%21shanghaitech/%E6%A6%82%E7%8E%87%E8%AE%BASI140A/SI140A-final_project/Bandit%20project/Project-Bandit.ipynb#X42sZmlsZQ%3D%3D?line=16'>17</a>\u001b[0m         regrets[i] \u001b[39m+\u001b[39m\u001b[39m=\u001b[39m regret \u001b[39m/\u001b[39m repeat_time\n",
      "\u001b[1;32md:\\!!shanghaitech\\概率论SI140A\\SI140A-final_project\\Bandit project\\Project-Bandit.ipynb 单元格 31\u001b[0m in \u001b[0;36mgreedy_function\u001b[1;34m(n, epsilon)\u001b[0m\n\u001b[0;32m     <a href='vscode-notebook-cell:/d%3A/%21%21shanghaitech/%E6%A6%82%E7%8E%87%E8%AE%BASI140A/SI140A-final_project/Bandit%20project/Project-Bandit.ipynb#X42sZmlsZQ%3D%3D?line=11'>12</a>\u001b[0m     arm \u001b[39m=\u001b[39m random\u001b[39m.\u001b[39mrandint(\u001b[39m1\u001b[39m, \u001b[39m3\u001b[39m) \u001b[39m# randomly choose an arm from {1,2,3}\u001b[39;00m\n\u001b[0;32m     <a href='vscode-notebook-cell:/d%3A/%21%21shanghaitech/%E6%A6%82%E7%8E%87%E8%AE%BASI140A/SI140A-final_project/Bandit%20project/Project-Bandit.ipynb#X42sZmlsZQ%3D%3D?line=12'>13</a>\u001b[0m \u001b[39melse\u001b[39;00m: \u001b[39m# exploit (with probability 1 - epsilon)\u001b[39;00m\n\u001b[1;32m---> <a href='vscode-notebook-cell:/d%3A/%21%21shanghaitech/%E6%A6%82%E7%8E%87%E8%AE%BASI140A/SI140A-final_project/Bandit%20project/Project-Bandit.ipynb#X42sZmlsZQ%3D%3D?line=13'>14</a>\u001b[0m     arm \u001b[39m=\u001b[39m np\u001b[39m.\u001b[39;49margmax(theta) \u001b[39m# choose the best arm\u001b[39;00m\n\u001b[0;32m     <a href='vscode-notebook-cell:/d%3A/%21%21shanghaitech/%E6%A6%82%E7%8E%87%E8%AE%BASI140A/SI140A-final_project/Bandit%20project/Project-Bandit.ipynb#X42sZmlsZQ%3D%3D?line=14'>15</a>\u001b[0m     \u001b[39mif\u001b[39;00m arm \u001b[39m==\u001b[39m \u001b[39m0\u001b[39m: \u001b[39m# if this happened, it means that all the theta are 0\u001b[39;00m\n\u001b[0;32m     <a href='vscode-notebook-cell:/d%3A/%21%21shanghaitech/%E6%A6%82%E7%8E%87%E8%AE%BASI140A/SI140A-final_project/Bandit%20project/Project-Bandit.ipynb#X42sZmlsZQ%3D%3D?line=15'>16</a>\u001b[0m         \u001b[39m# so we can randomly choose an arm from {1,2,3}\u001b[39;00m\n\u001b[0;32m     <a href='vscode-notebook-cell:/d%3A/%21%21shanghaitech/%E6%A6%82%E7%8E%87%E8%AE%BASI140A/SI140A-final_project/Bandit%20project/Project-Bandit.ipynb#X42sZmlsZQ%3D%3D?line=16'>17</a>\u001b[0m         arm \u001b[39m=\u001b[39m random\u001b[39m.\u001b[39mrandint(\u001b[39m1\u001b[39m, \u001b[39m3\u001b[39m) \u001b[39m# randomly choose an arm from {1,2,3}\u001b[39;00m\n",
      "File \u001b[1;32m<__array_function__ internals>:5\u001b[0m, in \u001b[0;36margmax\u001b[1;34m(*args, **kwargs)\u001b[0m\n",
      "File \u001b[1;32m~\\AppData\\Local\\Packages\\PythonSoftwareFoundation.Python.3.9_qbz5n2kfra8p0\\LocalCache\\local-packages\\Python39\\site-packages\\numpy\\core\\fromnumeric.py:1195\u001b[0m, in \u001b[0;36margmax\u001b[1;34m(a, axis, out)\u001b[0m\n\u001b[0;32m   1121\u001b[0m \u001b[39m@array_function_dispatch\u001b[39m(_argmax_dispatcher)\n\u001b[0;32m   1122\u001b[0m \u001b[39mdef\u001b[39;00m \u001b[39margmax\u001b[39m(a, axis\u001b[39m=\u001b[39m\u001b[39mNone\u001b[39;00m, out\u001b[39m=\u001b[39m\u001b[39mNone\u001b[39;00m):\n\u001b[0;32m   1123\u001b[0m     \u001b[39m\"\"\"\u001b[39;00m\n\u001b[0;32m   1124\u001b[0m \u001b[39m    Returns the indices of the maximum values along an axis.\u001b[39;00m\n\u001b[0;32m   1125\u001b[0m \n\u001b[1;32m   (...)\u001b[0m\n\u001b[0;32m   1193\u001b[0m \n\u001b[0;32m   1194\u001b[0m \u001b[39m    \"\"\"\u001b[39;00m\n\u001b[1;32m-> 1195\u001b[0m     \u001b[39mreturn\u001b[39;00m _wrapfunc(a, \u001b[39m'\u001b[39;49m\u001b[39margmax\u001b[39;49m\u001b[39m'\u001b[39;49m, axis\u001b[39m=\u001b[39;49maxis, out\u001b[39m=\u001b[39;49mout)\n",
      "File \u001b[1;32m~\\AppData\\Local\\Packages\\PythonSoftwareFoundation.Python.3.9_qbz5n2kfra8p0\\LocalCache\\local-packages\\Python39\\site-packages\\numpy\\core\\fromnumeric.py:54\u001b[0m, in \u001b[0;36m_wrapfunc\u001b[1;34m(obj, method, *args, **kwds)\u001b[0m\n\u001b[0;32m     52\u001b[0m bound \u001b[39m=\u001b[39m \u001b[39mgetattr\u001b[39m(obj, method, \u001b[39mNone\u001b[39;00m)\n\u001b[0;32m     53\u001b[0m \u001b[39mif\u001b[39;00m bound \u001b[39mis\u001b[39;00m \u001b[39mNone\u001b[39;00m:\n\u001b[1;32m---> 54\u001b[0m     \u001b[39mreturn\u001b[39;00m _wrapit(obj, method, \u001b[39m*\u001b[39margs, \u001b[39m*\u001b[39m\u001b[39m*\u001b[39mkwds)\n\u001b[0;32m     56\u001b[0m \u001b[39mtry\u001b[39;00m:\n\u001b[0;32m     57\u001b[0m     \u001b[39mreturn\u001b[39;00m bound(\u001b[39m*\u001b[39margs, \u001b[39m*\u001b[39m\u001b[39m*\u001b[39mkwds)\n",
      "File \u001b[1;32m~\\AppData\\Local\\Packages\\PythonSoftwareFoundation.Python.3.9_qbz5n2kfra8p0\\LocalCache\\local-packages\\Python39\\site-packages\\numpy\\core\\fromnumeric.py:43\u001b[0m, in \u001b[0;36m_wrapit\u001b[1;34m(obj, method, *args, **kwds)\u001b[0m\n\u001b[0;32m     41\u001b[0m \u001b[39mexcept\u001b[39;00m \u001b[39mAttributeError\u001b[39;00m:\n\u001b[0;32m     42\u001b[0m     wrap \u001b[39m=\u001b[39m \u001b[39mNone\u001b[39;00m\n\u001b[1;32m---> 43\u001b[0m result \u001b[39m=\u001b[39m \u001b[39mgetattr\u001b[39m(asarray(obj), method)(\u001b[39m*\u001b[39margs, \u001b[39m*\u001b[39m\u001b[39m*\u001b[39mkwds)\n\u001b[0;32m     44\u001b[0m \u001b[39mif\u001b[39;00m wrap:\n\u001b[0;32m     45\u001b[0m     \u001b[39mif\u001b[39;00m \u001b[39mnot\u001b[39;00m \u001b[39misinstance\u001b[39m(result, mu\u001b[39m.\u001b[39mndarray):\n",
      "\u001b[1;31mKeyboardInterrupt\u001b[0m: "
     ]
    }
   ],
   "source": [
    "# plot the result\n",
    "\n",
    "epsilon_inverse = [0] + [1 / t for t in range(1, N + 1)]\n",
    "epsilon_linear = [0] + [1 - 1 / (N - 1) * (t - 1) for t in range(1, N + 1)]\n",
    "epsilon_log = [0] + [1 / (1 + math.log(t)) for t in range(1, N + 1)]\n",
    "epsilon_exp = [0] + [0.98 ** t for t in range(1, N + 1)]\n",
    "\n",
    "epsilon = [epsilon_inverse, epsilon_linear, epsilon_log, epsilon_exp]\n",
    "\n",
    "rewards = [0, 0, 0, 0]\n",
    "regrets = [0, 0, 0, 0]\n",
    "\n",
    "for i in range(4):\n",
    "    for _ in tqdm.tqdm(range(repeat_time)):\n",
    "        reward, regret = greedy_function(N, epsilon[i])\n",
    "        rewards[i] += reward / repeat_time\n",
    "        regrets[i] += regret / repeat_time"
   ]
  },
  {
   "cell_type": "code",
   "execution_count": 17,
   "metadata": {},
   "outputs": [
    {
     "name": "stdout",
     "output_type": "stream",
     "text": [
      "1. inverse ratio:\n",
      "   epsilon(t) = 1 / t\n",
      "   reward =  3294.460000000002 \n",
      "   regret =  24.11870122594937 \n",
      "\n",
      "2. linear:\n",
      "   epsilon(t) = 1 - 1 / (N - 1) * (t - 1)\n",
      "   reward =  3080.354999999999 \n",
      "   regret =  417.1360062711781 \n",
      "\n",
      "3. the logarithmic function:\n",
      "   epsilon(t) = 1 / (1 + log(t))\n",
      "   reward =  3393.415 \n",
      "   regret =  110.44589374783305 \n",
      "\n",
      "4. the exponential function:\n",
      "   epsilon(t) = 0.95 ^ t\n",
      "   reward =  3384.7149999999983 \n",
      "   regret =  4.516131014813575 \n",
      "\n"
     ]
    },
    {
     "data": {
      "text/plain": [
       "([<matplotlib.axis.XTick at 0x18ff6212400>,\n",
       "  <matplotlib.axis.XTick at 0x18ff62123d0>,\n",
       "  <matplotlib.axis.XTick at 0x18ff620cf10>,\n",
       "  <matplotlib.axis.XTick at 0x18ff62592b0>],\n",
       " [Text(0, 0, ''), Text(0, 0, ''), Text(0, 0, ''), Text(0, 0, '')])"
      ]
     },
     "execution_count": 17,
     "metadata": {},
     "output_type": "execute_result"
    },
    {
     "data": {
      "image/png": "[encoded data removed]",
      "text/plain": [
       "<Figure size 432x288 with 1 Axes>"
      ]
     },
     "metadata": {
      "needs_background": "light"
     },
     "output_type": "display_data"
    }
   ],
   "source": [
    "# plot the result\n",
    "print(\"1. inverse ratio:\\n   epsilon(t) = 1 / t\\n   reward = \", rewards[0], \"\\n   regret = \", regrets[0], \"\\n\")\n",
    "print(\"2. linear:\\n   epsilon(t) = 1 - 1 / (N - 1) * (t - 1)\\n   reward = \", rewards[1], \"\\n   regret = \", regrets[1], \"\\n\")\n",
    "print(\"3. the logarithmic function:\\n   epsilon(t) = 1 / (1 + log(t))\\n   reward = \", rewards[2], \"\\n   regret = \", regrets[2], \"\\n\")\n",
    "print(\"4. the exponential function:\\n   epsilon(t) = 0.95 ^ t\\n   reward = \", rewards[3], \"\\n   regret = \", regrets[3], \"\\n\")\n",
    "\n",
    "epsilon_name = ['inversr', 'linear', 'log', 'exp']\n",
    "plt.plot(epsilon_name,rewards)\n",
    "plt.plot(epsilon_name,regrets)\n",
    "plt.scatter(epsilon_name, rewards, c = 'red')\n",
    "plt.scatter(epsilon_name, regrets, c = 'red')\n",
    "\n",
    "plt.legend([\"reward\", \"regret\"])\n",
    "plt.xlabel(\"epsilon_function\")\n",
    "plt.ylabel(\"reward/regret\")\n",
    "plt.title(\"epsilon-Greedy Algorithm\")\n",
    "plt.xticks(epsilon_name)"
   ]
  },
  {
   "attachments": {},
   "cell_type": "markdown",
   "metadata": {},
   "source": []
  },
  {
   "attachments": {},
   "cell_type": "markdown",
   "metadata": {},
   "source": [
    "---\n",
    "# 2. The UCB Algorithm"
   ]
  },
  {
   "cell_type": "code",
   "execution_count": 18,
   "metadata": {},
   "outputs": [
    {
     "name": "stderr",
     "output_type": "stream",
     "text": [
      "100%|██████████| 200/200 [00:16<00:00, 12.33it/s]\n",
      "100%|██████████| 200/200 [00:13<00:00, 14.29it/s]\n",
      "100%|██████████| 200/200 [00:13<00:00, 14.67it/s]\n"
     ]
    }
   ],
   "source": [
    "c = [1, 5, 10]\n",
    "rewards = [0, 0, 0]\n",
    "regrets = [0, 0, 0]\n",
    "\n",
    "for i in range(3):\n",
    "    for _ in tqdm.tqdm(range(repeat_time)):\n",
    "        reward, regret = UCB(N, c[i])\n",
    "        rewards[i] += reward / repeat_time\n",
    "        regrets[i] += regret / repeat_time"
   ]
  },
  {
   "cell_type": "code",
   "execution_count": 20,
   "metadata": {},
   "outputs": [
    {
     "name": "stdout",
     "output_type": "stream",
     "text": [
      "c =  1  reward =  3414.199999999998  regret =  88.97914293777481\n",
      "c =  5  reward =  2980.4149999999995  regret =  513.3845153318133\n",
      "c =  10  reward =  2828.825000000001  regret =  667.5494980278324\n"
     ]
    },
    {
     "data": {
      "text/plain": [
       "([<matplotlib.axis.XTick at 0x18ff62ff190>,\n",
       "  <matplotlib.axis.XTick at 0x18ff62ff160>,\n",
       "  <matplotlib.axis.XTick at 0x18ff62fa7f0>],\n",
       " [Text(0, 0, ''), Text(0, 0, ''), Text(0, 0, '')])"
      ]
     },
     "execution_count": 20,
     "metadata": {},
     "output_type": "execute_result"
    },
    {
     "data": {
      "image/png": "[encoded data removed]",
      "text/plain": [
       "<Figure size 432x288 with 1 Axes>"
      ]
     },
     "metadata": {
      "needs_background": "light"
     },
     "output_type": "display_data"
    }
   ],
   "source": [
    "# plot the result\n",
    "for i in range(len(c)):\n",
    "    print(\"c = \", c[i], \" reward = \", rewards[i], \" regret = \", regrets[i])\n",
    "\n",
    "plt.plot(c,rewards)\n",
    "plt.plot(c,regrets)\n",
    "plt.scatter(c, rewards, c = 'red')\n",
    "plt.scatter(c, regrets, c = 'red')\n",
    "\n",
    "plt.legend([\"reward\", \"regret\"])\n",
    "plt.xlabel(\"c\")\n",
    "plt.ylabel(\"reward/regret\")\n",
    "plt.title(\"UCB Algorithm\")\n",
    "plt.xticks(c)"
   ]
  },
  {
   "attachments": {},
   "cell_type": "markdown",
   "metadata": {},
   "source": [
    "# further exploration of the UCB Algorithm\n",
    "\n",
    "\n"
   ]
  },
  {
   "cell_type": "code",
   "execution_count": null,
   "metadata": {},
   "outputs": [],
   "source": []
  },
  {
   "attachments": {},
   "cell_type": "markdown",
   "metadata": {},
   "source": [
    "---\n",
    "# 3. The Thompson Sampling Algorithm"
   ]
  },
  {
   "cell_type": "code",
   "execution_count": 31,
   "metadata": {},
   "outputs": [
    {
     "name": "stderr",
     "output_type": "stream",
     "text": [
      "100%|██████████| 200/200 [00:36<00:00,  5.54it/s]\n",
      "100%|██████████| 200/200 [00:35<00:00,  5.70it/s]\n"
     ]
    }
   ],
   "source": [
    "a = [[0, 1, 1, 1], [0, 601, 401, 2]]\n",
    "b = [[0, 1, 1, 1], [0, 401, 601, 3]]\n",
    "\n",
    "rewards = [0, 0]\n",
    "regrets = [0, 0]\n",
    "for i in range(2):\n",
    "    for _ in tqdm.tqdm(range(repeat_time)):\n",
    "        reward, regret = TS(N, a[i], b[i])\n",
    "        rewards[i] += reward / repeat_time\n",
    "        regrets[i] += regret / repeat_time"
   ]
  },
  {
   "cell_type": "code",
   "execution_count": 32,
   "metadata": {},
   "outputs": [
    {
     "name": "stdout",
     "output_type": "stream",
     "text": [
      "alpha = [1, 1, 1]     beta = [1, 1, 1]      reward =  3497.070000000002  regret =  39.02128959851645\n",
      "alpha = [601, 401, 2] beta = [401, 601, 3]  reward =  3499.620000000002  regret =  23.78772822924203\n"
     ]
    },
    {
     "data": {
      "text/plain": [
       "([<matplotlib.axis.XTick at 0x2f4b0280e50>,\n",
       "  <matplotlib.axis.XTick at 0x2f4b0280f70>],\n",
       " [Text(0, 0, ''), Text(0, 0, '')])"
      ]
     },
     "execution_count": 32,
     "metadata": {},
     "output_type": "execute_result"
    },
    {
     "data": {
      "image/png": "[encoded data removed]",
      "text/plain": [
       "<Figure size 432x288 with 1 Axes>"
      ]
     },
     "metadata": {
      "needs_background": "light"
     },
     "output_type": "display_data"
    }
   ],
   "source": [
    "### Your code for problem 1.4. Feel free to insert more blocks or helper functions if you need.\n",
    "print(\"alpha = [1, 1, 1]     beta = [1, 1, 1]      reward = \", rewards[0], \" regret = \", regrets[0])\n",
    "print(\"alpha = [601, 401, 2] beta = [401, 601, 3]  reward = \", rewards[1], \" regret = \", regrets[1])\n",
    "\n",
    "\n",
    "x = [r\"$(\\alpha_1,\\beta_1)=(1,1),(\\alpha_2,\\beta_2)=(1,1),(\\alpha_3,\\beta_3)=(1,1)$\",r\"$(\\alpha_1,\\beta_1)=(601,401),(\\alpha_2,\\beta_2)=(401,601),(\\alpha_3,\\beta_3)=(2,3)$\"]\n",
    "plt.plot(x,rewards)\n",
    "plt.plot(x,regrets)\n",
    "plt.scatter(x, rewards, c = 'red')\n",
    "plt.scatter(x, regrets, c = 'red')\n",
    "\n",
    "plt.legend([\"reward\", \"regret\"])\n",
    "plt.xlabel(\"settings of alpha and beta\")\n",
    "plt.ylabel(\"reward/regret\")\n",
    "plt.title(\"Thompson Sampling Algorithm\")\n",
    "plt.xticks(x)"
   ]
  },
  {
   "cell_type": "code",
   "execution_count": null,
   "metadata": {},
   "outputs": [],
   "source": []
  },
  {
   "attachments": {},
   "cell_type": "markdown",
   "metadata": {},
   "source": [
    "# further exploration of the Thompson Sampling Algorithm\n",
    "\n",
    "\n"
   ]
  },
  {
   "cell_type": "code",
   "execution_count": null,
   "metadata": {},
   "outputs": [],
   "source": []
  },
  {
   "attachments": {},
   "cell_type": "markdown",
   "metadata": {},
   "source": [
    "4. Compute the gaps between the algorithm outputs (aggregated rewards over $N$ time slots) and the oracle value. Compare the numerical results of $\\epsilon$-greedy, UCB, and TS.\n",
    "   - Which one is the best?\n",
    "   - Discuss the impacts of $\\epsilon$, $c$, and $\\alpha_{j}$, $\\beta_{j}$, respectively. "
   ]
  },
  {
   "attachments": {},
   "cell_type": "markdown",
   "metadata": {},
   "source": [
    "**Your anwser of problem 4 in Part I**"
   ]
  },
  {
   "attachments": {},
   "cell_type": "markdown",
   "metadata": {},
   "source": [
    "---\n",
    "# Answer of Problem 4 in Part I\n",
    "---"
   ]
  },
  {
   "attachments": {},
   "cell_type": "markdown",
   "metadata": {},
   "source": [
    "## 1. the epsilon-greedy algorithm\n",
    "\n",
    "### <1> the original\n",
    "\n",
    "| epsilon |   Reward  | Regret  |\n",
    "|:-------:|:---------:|:-------:|\n",
    "|   0.1   | 3401.04   | 96.26   |\n",
    "|   0.5   | 3081.265  | 418.053 |\n",
    "|   0.9   | 2749.715  | 755.148 |\n",
    "\n",
    "### <2> further exploration\n",
    "|   property    |     $\\epsilon(t)$     |   Reward  | Regret  |\n",
    "|:-------------:|:---------------------:|:---------:|:-------:|\n",
    "| inverse ratio | $\\dfrac{1}{t}$        | 3294.46   | 24.119  |\n",
    "| linear        | $1-\\dfrac{t-1}{N-1}$  | 3080.355  | 417.136 |\n",
    "| log           | $\\dfrac{1}{1+log(t)}$ | 3393.415  | 110.446 |\n",
    "| exp           | $0.95^t$              | 3384.715  | 4.516   |\n",
    "\n",
    "\n",
    "## 2. the UCB algorithm\n",
    "\n",
    "### <1> the original\n",
    "\n",
    "| c   |   Reward  | Regret  |\n",
    "|:---:|:---------:|:-------:|\n",
    "| 1   | 3414.2    | 88.979  |\n",
    "| 5   | 2980.415  | 513.385 |\n",
    "| 10  | 2828.825  | 667.549 |\n",
    "\n",
    "### <2> further exploration\n",
    "\n",
    "\n",
    "\n",
    "\n",
    "\n",
    "\n",
    "## 3. the Thompson Sampling algorithm\n",
    "\n",
    "### <1> the original\n",
    "\n",
    "| $\\alpha,\\beta$ setting   |   Reward  | Regret  |\n",
    "|:---:|:---------:|:-------:|\n",
    "| $(\\alpha_1,\\beta_1)=(1,1),(\\alpha_2,\\beta_2)=(1,1),(\\alpha_3,\\beta_3)=(1,1)$    | 3497.07    | 39.021  |\n",
    "| $(\\alpha_1,\\beta_1)=(601,401),(\\alpha_2,\\beta_2)=(401,601),(\\alpha_3,\\beta_3)=(2,3)$   | 3499.62  | 23.788 |\n",
    "\n",
    "### <2> further exploration\n",
    "\n",
    "\n",
    "\n",
    "\n",
    "# Which one is the best?\n",
    "\n",
    "Comparing all rewards among the experiments we have done, we could find that the Thompson Sampling algorithm is the best one.\n",
    "\n",
    "When we set the parameters of the Thompson Sampling algorithm to be $\\{(\\alpha_1,\\beta_1)=(601,401),(\\alpha_2,\\beta_2)=(401,601),(\\alpha_3,\\beta_3)=(2,3)\\}$, the reward is the highest.\n",
    "\n",
    "\n",
    "# Discuss the impacts of $\\epsilon$, $c$, and $\\alpha_{j}$, $\\beta_{j}$, respectively. \n"
   ]
  },
  {
   "attachments": {},
   "cell_type": "markdown",
   "metadata": {},
   "source": [
    "5. Give your understanding of the exploration-exploitation trade-off in bandit algorithms."
   ]
  },
  {
   "attachments": {},
   "cell_type": "markdown",
   "metadata": {},
   "source": [
    "**Your anwser of problem 5 in Part I**"
   ]
  },
  {
   "attachments": {},
   "cell_type": "markdown",
   "metadata": {},
   "source": [
    "---\n",
    "# Answer of Problem 5 in Part I\n",
    "---\n",
    "\n",
    "Actually, initially I made some mistakes on understanding of the bandit algorithm.\n",
    "\n",
    "$\\hat{\\theta}_j$ is your evaluation of $\\Theta(j)$. In Bandit model, the paremeter of mean reward $\\theta$ is unknown, and it decides the reward you obtain. What you can know is your evaluation of $\\theta$ , which is $\\hat{\\theta}$ and you decide your choice according your evaluation $\\hat{\\theta}$\n",
    "\n",
    "\n",
    "\n",
    "\n",
    "\n",
    "\n"
   ]
  },
  {
   "attachments": {},
   "cell_type": "markdown",
   "metadata": {},
   "source": [
    "6. We implicitly assume the reward distribution of these three arms are independent. How about the dependent case?\n",
    "\tCan you design an algorithm to exploit such information to obtain a better result?"
   ]
  },
  {
   "attachments": {},
   "cell_type": "markdown",
   "metadata": {},
   "source": [
    "**Your anwser of problem 6 in Part I**"
   ]
  },
  {
   "attachments": {},
   "cell_type": "markdown",
   "metadata": {},
   "source": [
    "---\n",
    "# Answer of Problem 6 in Part I\n",
    "---"
   ]
  },
  {
   "cell_type": "code",
   "execution_count": null,
   "metadata": {},
   "outputs": [],
   "source": [
    "### Your code for problem 1.6. Feel free to insert more blocks or helper functions if you need.\n",
    "\n",
    "\n",
    "\n"
   ]
  },
  {
   "attachments": {},
   "cell_type": "markdown",
   "metadata": {},
   "source": [
    "## Part II: Bayesian Bandit Algorithms"
   ]
  },
  {
   "attachments": {},
   "cell_type": "markdown",
   "metadata": {},
   "source": [
    "There are two arms which may be pulled repeatedly in any order.\n",
    "Each pull may result in either a success or a failure.\n",
    "The sequence of successes and failures which results from pulling arm $i$ ($i \\in \\{1, 2\\}$) forms a Bernoulli process with unknown success probability $\\theta_{i}$.\n",
    "A success at the $t^{th}$ pull yields a reward $\\gamma^{t-1}$ ($0 < \\gamma <1$), while an unsuccessful pull yields a zero reward.\n",
    "At time zero, each $\\theta_{i}$ has a Beta prior distribution with two parameters $\\alpha_{i}, \\beta_{i}$ and these distributions are independent for different arms.\n",
    "These prior distributions are updated to posterior distributions as arms are pulled.\n",
    "Since the class of Beta distributions is closed under Bernoulli sampling, posterior distributions are all Beta distributions.\n",
    "How should the arm to pull next in each time slot be chosen to maximize the total expected reward from an infinite sequence of pulls?"
   ]
  },
  {
   "attachments": {},
   "cell_type": "markdown",
   "metadata": {},
   "source": [
    "1. \tOne intuitive policy suggests that in each time slot we should pull the arm for which the current expected value of $\\theta_{i}$ is the largest.\n",
    "\tThis policy behaves very good in most cases.\n",
    "\tPlease design simulations to check the behavior of this policy."
   ]
  },
  {
   "attachments": {},
   "cell_type": "markdown",
   "metadata": {},
   "source": [
    "**Your anwser of problem 1 in Part II**"
   ]
  },
  {
   "cell_type": "code",
   "execution_count": 1,
   "metadata": {},
   "outputs": [],
   "source": [
    "### Your code for problem 2.1. Feel free to insert more blocks or helper functions if you need.\n",
    "\n",
    "\n",
    "\n"
   ]
  },
  {
   "attachments": {},
   "cell_type": "markdown",
   "metadata": {},
   "source": [
    "2. However, such intuitive policy is unfortunately not optimal.\n",
    "\tPlease provide an example to show why such policy is not optimal. "
   ]
  },
  {
   "attachments": {},
   "cell_type": "markdown",
   "metadata": {},
   "source": [
    "**Your anwser of problem 2 in Part II**"
   ]
  },
  {
   "attachments": {},
   "cell_type": "markdown",
   "metadata": {},
   "source": [
    "TODO\n",
    "\n",
    "Please provide an example to show why such policy is not optimal\n",
    "\n",
    "\n",
    "\n",
    "\n"
   ]
  },
  {
   "attachments": {},
   "cell_type": "markdown",
   "metadata": {},
   "source": [
    "3. For the expected total reward under an optimal policy, show that the following recurrence equation holds:\n",
    "\n",
    "\\begin{equation*}\n",
    "\t\t\\begin{aligned}\n",
    "\t\t\tR_{1}(\\alpha_{1},\\beta_{1}) \n",
    "\t\t\t= & \\frac{\\alpha_{1}}{\\alpha_{1}+\\beta_{1}} [1+\\gamma R(\\alpha_{1} + 1, \\beta_{1}, \\alpha_{2}, \\beta_{2})] \\\\\n",
    "\t\t\t\t& + \\frac{\\beta_{1}}{\\alpha_{1} + \\beta_{1}} [\\gamma R(\\alpha_{1}, \\beta_{1} + 1, \\alpha_{2}, \\beta_{2})]; \\\\\n",
    "\t\t\tR_{2}(\\alpha_{2}, \\beta_{2}) \n",
    "\t\t\t= & \\frac{\\alpha_{2}}{\\alpha_{2} + \\beta_{2}} [1 + \\gamma R(\\alpha_{1}, \\beta_{1}, \\alpha_{2} + 1, \\beta_{2})] \\\\\n",
    "\t\t\t\t& + \\frac{\\beta_{2}}{\\alpha_{2} + \\beta_{2}} [\\gamma R(\\alpha_{1}, \\beta_{1}, \\alpha_{2}, \\beta_{2} + 1)]; \\\\\n",
    "\t\t\tR(\\alpha_{1}, \\beta_{1}, \\alpha_{2}, \\beta_{2}) \n",
    "\t\t\t= & \\max \\left\\{ R_{1}(\\alpha_{1}, \\beta_{1}), R_{2}(\\alpha_{2}, \\beta_{2}) \\right\\}.\n",
    "\t\t\\end{aligned}  \t\n",
    "\t\\end{equation*}"
   ]
  },
  {
   "attachments": {},
   "cell_type": "markdown",
   "metadata": {},
   "source": [
    "**Your anwser of problem 3 in Part II**"
   ]
  },
  {
   "attachments": {},
   "cell_type": "markdown",
   "metadata": {},
   "source": [
    "At time zero, each $\\theta_{i}$ has a Beta prior distribution with two parameters $\\alpha_{i}, \\beta_{i}$ and these distributions are independent for different arms.\n",
    "\n",
    "A success at the $t^{th}$ pull yields a reward $\\gamma^{t-1}$ ($0 < \\gamma <1$), while an unsuccessful pull yields a zero reward.\n",
    "\n",
    "So if we pull the arm 1 at the $t^{th}$ time, since it success or not is a distribution that is $Bern(\\theta_1)$.\n",
    "\n",
    "So it will yield a reward $\\gamma^{t-1}$ when success with probability $\\theta_1$, and yield a reward 0 when failure with probability $1-\\theta_1$.\n",
    "\n",
    "And since $\\theta_1\\sim Beta(\\alpha_1, \\beta_1)$, \n"
   ]
  },
  {
   "attachments": {},
   "cell_type": "markdown",
   "metadata": {},
   "source": [
    "4. For the above equations, how to solve it exactly or approximately? "
   ]
  },
  {
   "attachments": {},
   "cell_type": "markdown",
   "metadata": {},
   "source": [
    "**Your anwser of problem 4 in Part II**"
   ]
  },
  {
   "cell_type": "code",
   "execution_count": 33,
   "metadata": {},
   "outputs": [],
   "source": [
    "### Your code for problem 2.4 if needed.\n",
    "dict = {}\n",
    "\n",
    "def R(a1, b1, a2, b2, gamma):\n",
    "   global dict\n",
    "   if ((a1, a2, b1, b2) in dict): # if the value is already in the dictionary\n",
    "      return dict[(a1, a2, b1, b2)]\n",
    "   \n",
    "   # bound condition\n",
    "   # suppose that exploration 1000 times is enough for exploitation\n",
    "   if (a1 + b1 + a2 + b2 > 1000):\n",
    "      mean1 = a1 / (a1 + b1)\n",
    "      mean2 = a2 / (a2 + b2)\n",
    "      return np.max(mean1, mean2) # return the max mean value of two arms\n",
    "\n",
    "   # transfer fuction\n",
    "   # R1 = a1 / (a1 + b1) * (1 + gamma * R(a1 + 1, b1, a2, b2, gamma))\n",
    "   R1 =  R(a1 + 1, b1, a2, b2, gamma)\n",
    "\n",
    "   # + b1 / (a1 + b1) * (gamma * R(a1, b1 + 1, a2, b2, gamma))\n",
    "    \n",
    "   # R2 = a2 / (a2 + b2) * (1 + gamma * R(a1, b1, a2 + 1, b2, gamma)) + b2 / (a2 + b2) * (gamma * R(a1, b1, a2, b2 + 1, gamma))\n",
    "\n",
    "    # R = max(R1, R2)\n",
    "   # reward = np.max(R1, R2)\n",
    "   reward = R1\n",
    "   dict[(a1, a2, b1, b2)] = reward # store the value in the dictionary\n",
    "   return reward"
   ]
  },
  {
   "attachments": {},
   "cell_type": "markdown",
   "metadata": {},
   "source": [
    "5. Find the optimal policy."
   ]
  },
  {
   "attachments": {},
   "cell_type": "markdown",
   "metadata": {},
   "source": [
    "**Your anwser of problem 5 in Part II**"
   ]
  },
  {
   "cell_type": "code",
   "execution_count": 34,
   "metadata": {},
   "outputs": [
    {
     "ename": "TypeError",
     "evalue": "'float' object cannot be interpreted as an integer",
     "output_type": "error",
     "traceback": [
      "\u001b[1;31m---------------------------------------------------------------------------\u001b[0m",
      "\u001b[1;31mTypeError\u001b[0m                                 Traceback (most recent call last)",
      "\u001b[1;32md:\\!!shanghaitech\\概率论SI140A\\SI140A-final_project\\Bandit project\\Project-Bandit.ipynb 单元格 72\u001b[0m in \u001b[0;36m<cell line: 2>\u001b[1;34m()\u001b[0m\n\u001b[0;32m      <a href='vscode-notebook-cell:/d%3A/%21%21shanghaitech/%E6%A6%82%E7%8E%87%E8%AE%BASI140A/SI140A-final_project/Bandit%20project/Project-Bandit.ipynb#Y131sZmlsZQ%3D%3D?line=0'>1</a>\u001b[0m \u001b[39m### Your code for problem 2.5. Feel free to insert more blocks or helper functions if you need.\u001b[39;00m\n\u001b[1;32m----> <a href='vscode-notebook-cell:/d%3A/%21%21shanghaitech/%E6%A6%82%E7%8E%87%E8%AE%BASI140A/SI140A-final_project/Bandit%20project/Project-Bandit.ipynb#Y131sZmlsZQ%3D%3D?line=1'>2</a>\u001b[0m \u001b[39mprint\u001b[39m(R(\u001b[39m1\u001b[39;49m, \u001b[39m1\u001b[39;49m, \u001b[39m1\u001b[39;49m, \u001b[39m1\u001b[39;49m, \u001b[39m0.9\u001b[39;49m))\n",
      "\u001b[1;32md:\\!!shanghaitech\\概率论SI140A\\SI140A-final_project\\Bandit project\\Project-Bandit.ipynb 单元格 72\u001b[0m in \u001b[0;36mR\u001b[1;34m(a1, b1, a2, b2, gamma)\u001b[0m\n\u001b[0;32m     <a href='vscode-notebook-cell:/d%3A/%21%21shanghaitech/%E6%A6%82%E7%8E%87%E8%AE%BASI140A/SI140A-final_project/Bandit%20project/Project-Bandit.ipynb#Y131sZmlsZQ%3D%3D?line=15'>16</a>\u001b[0m    \u001b[39mreturn\u001b[39;00m np\u001b[39m.\u001b[39mmax(mean1, mean2) \u001b[39m# return the max mean value of two arms\u001b[39;00m\n\u001b[0;32m     <a href='vscode-notebook-cell:/d%3A/%21%21shanghaitech/%E6%A6%82%E7%8E%87%E8%AE%BASI140A/SI140A-final_project/Bandit%20project/Project-Bandit.ipynb#Y131sZmlsZQ%3D%3D?line=17'>18</a>\u001b[0m \u001b[39m# transfer fuction\u001b[39;00m\n\u001b[0;32m     <a href='vscode-notebook-cell:/d%3A/%21%21shanghaitech/%E6%A6%82%E7%8E%87%E8%AE%BASI140A/SI140A-final_project/Bandit%20project/Project-Bandit.ipynb#Y131sZmlsZQ%3D%3D?line=18'>19</a>\u001b[0m \u001b[39m# R1 = a1 / (a1 + b1) * (1 + gamma * R(a1 + 1, b1, a2, b2, gamma))\u001b[39;00m\n\u001b[1;32m---> <a href='vscode-notebook-cell:/d%3A/%21%21shanghaitech/%E6%A6%82%E7%8E%87%E8%AE%BASI140A/SI140A-final_project/Bandit%20project/Project-Bandit.ipynb#Y131sZmlsZQ%3D%3D?line=19'>20</a>\u001b[0m R1 \u001b[39m=\u001b[39m  R(a1 \u001b[39m+\u001b[39;49m \u001b[39m1\u001b[39;49m, b1, a2, b2, gamma)\n\u001b[0;32m     <a href='vscode-notebook-cell:/d%3A/%21%21shanghaitech/%E6%A6%82%E7%8E%87%E8%AE%BASI140A/SI140A-final_project/Bandit%20project/Project-Bandit.ipynb#Y131sZmlsZQ%3D%3D?line=21'>22</a>\u001b[0m \u001b[39m# + b1 / (a1 + b1) * (gamma * R(a1, b1 + 1, a2, b2, gamma))\u001b[39;00m\n\u001b[0;32m     <a href='vscode-notebook-cell:/d%3A/%21%21shanghaitech/%E6%A6%82%E7%8E%87%E8%AE%BASI140A/SI140A-final_project/Bandit%20project/Project-Bandit.ipynb#Y131sZmlsZQ%3D%3D?line=22'>23</a>\u001b[0m  \n\u001b[0;32m     <a href='vscode-notebook-cell:/d%3A/%21%21shanghaitech/%E6%A6%82%E7%8E%87%E8%AE%BASI140A/SI140A-final_project/Bandit%20project/Project-Bandit.ipynb#Y131sZmlsZQ%3D%3D?line=23'>24</a>\u001b[0m \u001b[39m# R2 = a2 / (a2 + b2) * (1 + gamma * R(a1, b1, a2 + 1, b2, gamma)) + b2 / (a2 + b2) * (gamma * R(a1, b1, a2, b2 + 1, gamma))\u001b[39;00m\n\u001b[0;32m     <a href='vscode-notebook-cell:/d%3A/%21%21shanghaitech/%E6%A6%82%E7%8E%87%E8%AE%BASI140A/SI140A-final_project/Bandit%20project/Project-Bandit.ipynb#Y131sZmlsZQ%3D%3D?line=24'>25</a>\u001b[0m \n\u001b[0;32m     <a href='vscode-notebook-cell:/d%3A/%21%21shanghaitech/%E6%A6%82%E7%8E%87%E8%AE%BASI140A/SI140A-final_project/Bandit%20project/Project-Bandit.ipynb#Y131sZmlsZQ%3D%3D?line=25'>26</a>\u001b[0m  \u001b[39m# R = max(R1, R2)\u001b[39;00m\n\u001b[0;32m     <a href='vscode-notebook-cell:/d%3A/%21%21shanghaitech/%E6%A6%82%E7%8E%87%E8%AE%BASI140A/SI140A-final_project/Bandit%20project/Project-Bandit.ipynb#Y131sZmlsZQ%3D%3D?line=26'>27</a>\u001b[0m \u001b[39m# reward = np.max(R1, R2)\u001b[39;00m\n\u001b[0;32m     <a href='vscode-notebook-cell:/d%3A/%21%21shanghaitech/%E6%A6%82%E7%8E%87%E8%AE%BASI140A/SI140A-final_project/Bandit%20project/Project-Bandit.ipynb#Y131sZmlsZQ%3D%3D?line=27'>28</a>\u001b[0m reward \u001b[39m=\u001b[39m R1\n",
      "\u001b[1;32md:\\!!shanghaitech\\概率论SI140A\\SI140A-final_project\\Bandit project\\Project-Bandit.ipynb 单元格 72\u001b[0m in \u001b[0;36mR\u001b[1;34m(a1, b1, a2, b2, gamma)\u001b[0m\n\u001b[0;32m     <a href='vscode-notebook-cell:/d%3A/%21%21shanghaitech/%E6%A6%82%E7%8E%87%E8%AE%BASI140A/SI140A-final_project/Bandit%20project/Project-Bandit.ipynb#Y131sZmlsZQ%3D%3D?line=15'>16</a>\u001b[0m    \u001b[39mreturn\u001b[39;00m np\u001b[39m.\u001b[39mmax(mean1, mean2) \u001b[39m# return the max mean value of two arms\u001b[39;00m\n\u001b[0;32m     <a href='vscode-notebook-cell:/d%3A/%21%21shanghaitech/%E6%A6%82%E7%8E%87%E8%AE%BASI140A/SI140A-final_project/Bandit%20project/Project-Bandit.ipynb#Y131sZmlsZQ%3D%3D?line=17'>18</a>\u001b[0m \u001b[39m# transfer fuction\u001b[39;00m\n\u001b[0;32m     <a href='vscode-notebook-cell:/d%3A/%21%21shanghaitech/%E6%A6%82%E7%8E%87%E8%AE%BASI140A/SI140A-final_project/Bandit%20project/Project-Bandit.ipynb#Y131sZmlsZQ%3D%3D?line=18'>19</a>\u001b[0m \u001b[39m# R1 = a1 / (a1 + b1) * (1 + gamma * R(a1 + 1, b1, a2, b2, gamma))\u001b[39;00m\n\u001b[1;32m---> <a href='vscode-notebook-cell:/d%3A/%21%21shanghaitech/%E6%A6%82%E7%8E%87%E8%AE%BASI140A/SI140A-final_project/Bandit%20project/Project-Bandit.ipynb#Y131sZmlsZQ%3D%3D?line=19'>20</a>\u001b[0m R1 \u001b[39m=\u001b[39m  R(a1 \u001b[39m+\u001b[39;49m \u001b[39m1\u001b[39;49m, b1, a2, b2, gamma)\n\u001b[0;32m     <a href='vscode-notebook-cell:/d%3A/%21%21shanghaitech/%E6%A6%82%E7%8E%87%E8%AE%BASI140A/SI140A-final_project/Bandit%20project/Project-Bandit.ipynb#Y131sZmlsZQ%3D%3D?line=21'>22</a>\u001b[0m \u001b[39m# + b1 / (a1 + b1) * (gamma * R(a1, b1 + 1, a2, b2, gamma))\u001b[39;00m\n\u001b[0;32m     <a href='vscode-notebook-cell:/d%3A/%21%21shanghaitech/%E6%A6%82%E7%8E%87%E8%AE%BASI140A/SI140A-final_project/Bandit%20project/Project-Bandit.ipynb#Y131sZmlsZQ%3D%3D?line=22'>23</a>\u001b[0m  \n\u001b[0;32m     <a href='vscode-notebook-cell:/d%3A/%21%21shanghaitech/%E6%A6%82%E7%8E%87%E8%AE%BASI140A/SI140A-final_project/Bandit%20project/Project-Bandit.ipynb#Y131sZmlsZQ%3D%3D?line=23'>24</a>\u001b[0m \u001b[39m# R2 = a2 / (a2 + b2) * (1 + gamma * R(a1, b1, a2 + 1, b2, gamma)) + b2 / (a2 + b2) * (gamma * R(a1, b1, a2, b2 + 1, gamma))\u001b[39;00m\n\u001b[0;32m     <a href='vscode-notebook-cell:/d%3A/%21%21shanghaitech/%E6%A6%82%E7%8E%87%E8%AE%BASI140A/SI140A-final_project/Bandit%20project/Project-Bandit.ipynb#Y131sZmlsZQ%3D%3D?line=24'>25</a>\u001b[0m \n\u001b[0;32m     <a href='vscode-notebook-cell:/d%3A/%21%21shanghaitech/%E6%A6%82%E7%8E%87%E8%AE%BASI140A/SI140A-final_project/Bandit%20project/Project-Bandit.ipynb#Y131sZmlsZQ%3D%3D?line=25'>26</a>\u001b[0m  \u001b[39m# R = max(R1, R2)\u001b[39;00m\n\u001b[0;32m     <a href='vscode-notebook-cell:/d%3A/%21%21shanghaitech/%E6%A6%82%E7%8E%87%E8%AE%BASI140A/SI140A-final_project/Bandit%20project/Project-Bandit.ipynb#Y131sZmlsZQ%3D%3D?line=26'>27</a>\u001b[0m \u001b[39m# reward = np.max(R1, R2)\u001b[39;00m\n\u001b[0;32m     <a href='vscode-notebook-cell:/d%3A/%21%21shanghaitech/%E6%A6%82%E7%8E%87%E8%AE%BASI140A/SI140A-final_project/Bandit%20project/Project-Bandit.ipynb#Y131sZmlsZQ%3D%3D?line=27'>28</a>\u001b[0m reward \u001b[39m=\u001b[39m R1\n",
      "    \u001b[1;31m[... skipping similar frames: R at line 20 (994 times)]\u001b[0m\n",
      "\u001b[1;32md:\\!!shanghaitech\\概率论SI140A\\SI140A-final_project\\Bandit project\\Project-Bandit.ipynb 单元格 72\u001b[0m in \u001b[0;36mR\u001b[1;34m(a1, b1, a2, b2, gamma)\u001b[0m\n\u001b[0;32m     <a href='vscode-notebook-cell:/d%3A/%21%21shanghaitech/%E6%A6%82%E7%8E%87%E8%AE%BASI140A/SI140A-final_project/Bandit%20project/Project-Bandit.ipynb#Y131sZmlsZQ%3D%3D?line=15'>16</a>\u001b[0m    \u001b[39mreturn\u001b[39;00m np\u001b[39m.\u001b[39mmax(mean1, mean2) \u001b[39m# return the max mean value of two arms\u001b[39;00m\n\u001b[0;32m     <a href='vscode-notebook-cell:/d%3A/%21%21shanghaitech/%E6%A6%82%E7%8E%87%E8%AE%BASI140A/SI140A-final_project/Bandit%20project/Project-Bandit.ipynb#Y131sZmlsZQ%3D%3D?line=17'>18</a>\u001b[0m \u001b[39m# transfer fuction\u001b[39;00m\n\u001b[0;32m     <a href='vscode-notebook-cell:/d%3A/%21%21shanghaitech/%E6%A6%82%E7%8E%87%E8%AE%BASI140A/SI140A-final_project/Bandit%20project/Project-Bandit.ipynb#Y131sZmlsZQ%3D%3D?line=18'>19</a>\u001b[0m \u001b[39m# R1 = a1 / (a1 + b1) * (1 + gamma * R(a1 + 1, b1, a2, b2, gamma))\u001b[39;00m\n\u001b[1;32m---> <a href='vscode-notebook-cell:/d%3A/%21%21shanghaitech/%E6%A6%82%E7%8E%87%E8%AE%BASI140A/SI140A-final_project/Bandit%20project/Project-Bandit.ipynb#Y131sZmlsZQ%3D%3D?line=19'>20</a>\u001b[0m R1 \u001b[39m=\u001b[39m  R(a1 \u001b[39m+\u001b[39;49m \u001b[39m1\u001b[39;49m, b1, a2, b2, gamma)\n\u001b[0;32m     <a href='vscode-notebook-cell:/d%3A/%21%21shanghaitech/%E6%A6%82%E7%8E%87%E8%AE%BASI140A/SI140A-final_project/Bandit%20project/Project-Bandit.ipynb#Y131sZmlsZQ%3D%3D?line=21'>22</a>\u001b[0m \u001b[39m# + b1 / (a1 + b1) * (gamma * R(a1, b1 + 1, a2, b2, gamma))\u001b[39;00m\n\u001b[0;32m     <a href='vscode-notebook-cell:/d%3A/%21%21shanghaitech/%E6%A6%82%E7%8E%87%E8%AE%BASI140A/SI140A-final_project/Bandit%20project/Project-Bandit.ipynb#Y131sZmlsZQ%3D%3D?line=22'>23</a>\u001b[0m  \n\u001b[0;32m     <a href='vscode-notebook-cell:/d%3A/%21%21shanghaitech/%E6%A6%82%E7%8E%87%E8%AE%BASI140A/SI140A-final_project/Bandit%20project/Project-Bandit.ipynb#Y131sZmlsZQ%3D%3D?line=23'>24</a>\u001b[0m \u001b[39m# R2 = a2 / (a2 + b2) * (1 + gamma * R(a1, b1, a2 + 1, b2, gamma)) + b2 / (a2 + b2) * (gamma * R(a1, b1, a2, b2 + 1, gamma))\u001b[39;00m\n\u001b[0;32m     <a href='vscode-notebook-cell:/d%3A/%21%21shanghaitech/%E6%A6%82%E7%8E%87%E8%AE%BASI140A/SI140A-final_project/Bandit%20project/Project-Bandit.ipynb#Y131sZmlsZQ%3D%3D?line=24'>25</a>\u001b[0m \n\u001b[0;32m     <a href='vscode-notebook-cell:/d%3A/%21%21shanghaitech/%E6%A6%82%E7%8E%87%E8%AE%BASI140A/SI140A-final_project/Bandit%20project/Project-Bandit.ipynb#Y131sZmlsZQ%3D%3D?line=25'>26</a>\u001b[0m  \u001b[39m# R = max(R1, R2)\u001b[39;00m\n\u001b[0;32m     <a href='vscode-notebook-cell:/d%3A/%21%21shanghaitech/%E6%A6%82%E7%8E%87%E8%AE%BASI140A/SI140A-final_project/Bandit%20project/Project-Bandit.ipynb#Y131sZmlsZQ%3D%3D?line=26'>27</a>\u001b[0m \u001b[39m# reward = np.max(R1, R2)\u001b[39;00m\n\u001b[0;32m     <a href='vscode-notebook-cell:/d%3A/%21%21shanghaitech/%E6%A6%82%E7%8E%87%E8%AE%BASI140A/SI140A-final_project/Bandit%20project/Project-Bandit.ipynb#Y131sZmlsZQ%3D%3D?line=27'>28</a>\u001b[0m reward \u001b[39m=\u001b[39m R1\n",
      "\u001b[1;32md:\\!!shanghaitech\\概率论SI140A\\SI140A-final_project\\Bandit project\\Project-Bandit.ipynb 单元格 72\u001b[0m in \u001b[0;36mR\u001b[1;34m(a1, b1, a2, b2, gamma)\u001b[0m\n\u001b[0;32m     <a href='vscode-notebook-cell:/d%3A/%21%21shanghaitech/%E6%A6%82%E7%8E%87%E8%AE%BASI140A/SI140A-final_project/Bandit%20project/Project-Bandit.ipynb#Y131sZmlsZQ%3D%3D?line=11'>12</a>\u001b[0m mean1 \u001b[39m=\u001b[39m a1 \u001b[39m/\u001b[39m (a1 \u001b[39m+\u001b[39m b1)\n\u001b[0;32m     <a href='vscode-notebook-cell:/d%3A/%21%21shanghaitech/%E6%A6%82%E7%8E%87%E8%AE%BASI140A/SI140A-final_project/Bandit%20project/Project-Bandit.ipynb#Y131sZmlsZQ%3D%3D?line=12'>13</a>\u001b[0m mean2 \u001b[39m=\u001b[39m a2 \u001b[39m/\u001b[39m (a2 \u001b[39m+\u001b[39m b2)\n\u001b[1;32m---> <a href='vscode-notebook-cell:/d%3A/%21%21shanghaitech/%E6%A6%82%E7%8E%87%E8%AE%BASI140A/SI140A-final_project/Bandit%20project/Project-Bandit.ipynb#Y131sZmlsZQ%3D%3D?line=13'>14</a>\u001b[0m xxxx \u001b[39m=\u001b[39m np\u001b[39m.\u001b[39;49mmax(mean1, mean2)\n\u001b[0;32m     <a href='vscode-notebook-cell:/d%3A/%21%21shanghaitech/%E6%A6%82%E7%8E%87%E8%AE%BASI140A/SI140A-final_project/Bandit%20project/Project-Bandit.ipynb#Y131sZmlsZQ%3D%3D?line=14'>15</a>\u001b[0m \u001b[39mprint\u001b[39m(\u001b[39mtype\u001b[39m(xxxx))\n\u001b[0;32m     <a href='vscode-notebook-cell:/d%3A/%21%21shanghaitech/%E6%A6%82%E7%8E%87%E8%AE%BASI140A/SI140A-final_project/Bandit%20project/Project-Bandit.ipynb#Y131sZmlsZQ%3D%3D?line=15'>16</a>\u001b[0m \u001b[39mreturn\u001b[39;00m np\u001b[39m.\u001b[39mmax(mean1, mean2) \u001b[39m# return the max mean value of two arms\u001b[39;00m\n",
      "File \u001b[1;32m<__array_function__ internals>:5\u001b[0m, in \u001b[0;36mamax\u001b[1;34m(*args, **kwargs)\u001b[0m\n",
      "File \u001b[1;32m~\\AppData\\Local\\Packages\\PythonSoftwareFoundation.Python.3.9_qbz5n2kfra8p0\\LocalCache\\local-packages\\Python39\\site-packages\\numpy\\core\\fromnumeric.py:2754\u001b[0m, in \u001b[0;36mamax\u001b[1;34m(a, axis, out, keepdims, initial, where)\u001b[0m\n\u001b[0;32m   2638\u001b[0m \u001b[39m@array_function_dispatch\u001b[39m(_amax_dispatcher)\n\u001b[0;32m   2639\u001b[0m \u001b[39mdef\u001b[39;00m \u001b[39mamax\u001b[39m(a, axis\u001b[39m=\u001b[39m\u001b[39mNone\u001b[39;00m, out\u001b[39m=\u001b[39m\u001b[39mNone\u001b[39;00m, keepdims\u001b[39m=\u001b[39mnp\u001b[39m.\u001b[39m_NoValue, initial\u001b[39m=\u001b[39mnp\u001b[39m.\u001b[39m_NoValue,\n\u001b[0;32m   2640\u001b[0m          where\u001b[39m=\u001b[39mnp\u001b[39m.\u001b[39m_NoValue):\n\u001b[0;32m   2641\u001b[0m     \u001b[39m\"\"\"\u001b[39;00m\n\u001b[0;32m   2642\u001b[0m \u001b[39m    Return the maximum of an array or maximum along an axis.\u001b[39;00m\n\u001b[0;32m   2643\u001b[0m \n\u001b[1;32m   (...)\u001b[0m\n\u001b[0;32m   2752\u001b[0m \u001b[39m    5\u001b[39;00m\n\u001b[0;32m   2753\u001b[0m \u001b[39m    \"\"\"\u001b[39;00m\n\u001b[1;32m-> 2754\u001b[0m     \u001b[39mreturn\u001b[39;00m _wrapreduction(a, np\u001b[39m.\u001b[39;49mmaximum, \u001b[39m'\u001b[39;49m\u001b[39mmax\u001b[39;49m\u001b[39m'\u001b[39;49m, axis, \u001b[39mNone\u001b[39;49;00m, out,\n\u001b[0;32m   2755\u001b[0m                           keepdims\u001b[39m=\u001b[39;49mkeepdims, initial\u001b[39m=\u001b[39;49minitial, where\u001b[39m=\u001b[39;49mwhere)\n",
      "File \u001b[1;32m~\\AppData\\Local\\Packages\\PythonSoftwareFoundation.Python.3.9_qbz5n2kfra8p0\\LocalCache\\local-packages\\Python39\\site-packages\\numpy\\core\\fromnumeric.py:86\u001b[0m, in \u001b[0;36m_wrapreduction\u001b[1;34m(obj, ufunc, method, axis, dtype, out, **kwargs)\u001b[0m\n\u001b[0;32m     83\u001b[0m         \u001b[39melse\u001b[39;00m:\n\u001b[0;32m     84\u001b[0m             \u001b[39mreturn\u001b[39;00m reduction(axis\u001b[39m=\u001b[39maxis, out\u001b[39m=\u001b[39mout, \u001b[39m*\u001b[39m\u001b[39m*\u001b[39mpasskwargs)\n\u001b[1;32m---> 86\u001b[0m \u001b[39mreturn\u001b[39;00m ufunc\u001b[39m.\u001b[39mreduce(obj, axis, dtype, out, \u001b[39m*\u001b[39m\u001b[39m*\u001b[39mpasskwargs)\n",
      "\u001b[1;31mTypeError\u001b[0m: 'float' object cannot be interpreted as an integer"
     ]
    }
   ],
   "source": [
    "### Your code for problem 2.5. Feel free to insert more blocks or helper functions if you need.\n",
    "print(R(1, 1, 1, 1, 0.9))"
   ]
  }
 ],
 "metadata": {
  "kernelspec": {
   "display_name": "Python 3",
   "language": "python",
   "name": "python3"
  },
  "language_info": {
   "codemirror_mode": {
    "name": "ipython",
    "version": 3
   },
   "file_extension": ".py",
   "mimetype": "text/x-python",
   "name": "python",
   "nbconvert_exporter": "python",
   "pygments_lexer": "ipython3",
   "version": "3.9.13"
  }
 },
 "nbformat": 4,
 "nbformat_minor": 4
}
