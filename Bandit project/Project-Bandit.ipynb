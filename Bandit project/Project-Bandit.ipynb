{
 "cells": [
  {
   "attachments": {},
   "cell_type": "markdown",
   "metadata": {},
   "source": [
    "# Contributors:\n",
    "##### Name: Zhou Shouchen(周守琛) Student id: 2021533042\n",
    "##### Name: Wang Penghao (王鹏豪) Student id: 2021533138"
   ]
  },
  {
   "attachments": {},
   "cell_type": "markdown",
   "metadata": {},
   "source": [
    "# Project: Performance Evaluation of Bandit Algorithms\n",
    "\n",
    "- In this project, you will implement several classical bandit algorithms, evluate their performance via numerical comparison and finally gain inspiring intuition."
   ]
  },
  {
   "attachments": {},
   "cell_type": "markdown",
   "metadata": {},
   "source": [
    "## Part I: Classical Bandit Algorithms\n",
    "\n",
    "We consider a time-slotted bandit system ($t=1,2,\\ldots$) with three arms.\n",
    "We denote the arm set as $\\{1,2,3\\}$.\n",
    "Pulling each arm $j$ ($ j \\in \\{1,2,3\\}$) will obtain a random reward $r_{j}$, which follows a Bernoulli distribution with mean $\\theta_{j}$, *i.e.*, Bern($\\theta_{j}$).\n",
    "Specifically,\n",
    "\n",
    "\\begin{equation*}\n",
    "\t\\begin{aligned}\n",
    "\t\tr_{j} = \n",
    "\t\t\\begin{cases}\n",
    "\t\t\t1, & w.p.\\ \\theta_{j}, \\\\\n",
    "\t\t\t0, & w.p.\\ 1-\\theta_{j},\t\t\t\n",
    "\t\t\\end{cases}\n",
    "\t\\end{aligned}\n",
    "\\end{equation*}\n",
    "where $\\theta_{j}, j \\in\\{1,2,3\\}$ are parameters within $(0,1)$.\n",
    "  \n",
    "Now we run this bandit system for $N$ ($N \\gg 3$) time slots.\n",
    "In each time slot $t$, we choose one and only one arm from these three arms, which we denote as $I(t) \\in \\{1,2,3\\}$.\n",
    "Then we pull the arm $I(t)$ and obtain a random reward $r_{I(t)}$.\n",
    "Our objective is to find an optimal policy to choose an arm $I(t)$ in each time slot $t$ such that the expectation of the aggregated reward over $N$ time slots is maximized, *i.e.*,\n",
    "\n",
    "\\begin{equation*}\n",
    "\t\\begin{aligned}\n",
    "\t\t\\max_{I(t),t = 1,\\dots,N} \\ \\  \\mathbb{E}\\left[\\sum_{t=1}^{N} r_{I(t)} \\right].\n",
    "\t\\end{aligned}  \t\n",
    "\\end{equation*}\n",
    "\n",
    "If we know the values of $\\theta_{j},j \\in \\{1,2,3\\}$, this problem is trivial.\n",
    "Since $r_{I(t)} \\sim \\text{Bern}(\\theta_{I(t)})$,\n",
    "\n",
    "\\begin{equation*}\n",
    "\t\\begin{aligned}\n",
    "\t\t\\mathbb{E}\\left[\\sum_{t=1}^N r_{I(t)} \\right] \n",
    "\t\t= \\sum_{t=1}^{N} \\mathbb{E}[r_{I(t)}] \n",
    "\t\t= \\sum_{t=1}^N \\theta_{I(t)}.\n",
    "\t\\end{aligned} \t\n",
    "\\end{equation*}\n",
    "\n",
    "Let $I(t) = I^{*} = \\mathop{\\arg \\max}\\limits_{ j \\in \\{1,2,3\\}} \\ \\theta_j$ for $t=1,2,\\ldots,N$, then \n",
    "\n",
    "\\begin{equation*}\n",
    "\t\\begin{aligned}\n",
    "\t\t\\max_{I(t),t=1,\\ldots,N} \\ \\  \\mathbb{E}\\left[\\sum_{t=1}^N r_{I(t)} \\right] = N \\cdot \\theta_{I^*}.\n",
    "\t\\end{aligned} \t\n",
    "\\end{equation*}\n",
    "\n",
    "However, in reality, we do not know the values of $\\theta_{j},j \\in \\{1,2,3\\}$.\n",
    "We need to estimate the values $\\theta_{j}, j \\in \\{1,2,3\\}$ via empirical samples, and then make the decisions in each time slot. \n",
    "Next we introduce three classical bandit algorithms: $\\epsilon$-greedy, UCB, and TS, respectively."
   ]
  },
  {
   "attachments": {},
   "cell_type": "markdown",
   "metadata": {},
   "source": [
    "### $\\epsilon$-greedy Algorithm ($0 \\leq \\epsilon \\leq 1$)\n",
    "<img src=\"figures/e-greedy.jpg\" width=\"50%\" align='left'>"
   ]
  },
  {
   "attachments": {},
   "cell_type": "markdown",
   "metadata": {},
   "source": [
    "### UCB (Upper Confidence Bound) Algorithm\n",
    "<img src=\"figures/UCB.jpg\" width=\"50%\" align='left'>"
   ]
  },
  {
   "attachments": {},
   "cell_type": "markdown",
   "metadata": {},
   "source": [
    "### TS (Thompson Sampling) Algorithm\n",
    "<img src=\"figures/TS.jpg\" width=\"50%\" align='left'>"
   ]
  },
  {
   "attachments": {},
   "cell_type": "markdown",
   "metadata": {},
   "source": [
    "### Problems"
   ]
  },
  {
   "attachments": {},
   "cell_type": "markdown",
   "metadata": {},
   "source": [
    "1. Now suppose we obtain the parameters of the Bernoulli distributions from an oracle, which are shown in the following table. Choose $N=5000$ and compute the theoretically maximized expectation of aggregate rewards over $N$ time slots. We call it the oracle value. Note that these parameters $\\theta_{j}, j \\in \\{1,2,3\\}$ and oracle values are unknown to all bandit algorithms.\n",
    "\n",
    "| Arm $j$ | 1   | 2   | 3   |\n",
    "|---------|-----|-----|-----|\n",
    "| $\\theta_j$ | 0.7 | 0.5 | 0.4 |"
   ]
  },
  {
   "attachments": {},
   "cell_type": "markdown",
   "metadata": {},
   "source": [
    "**Your anwser of problem 1 in Part I**"
   ]
  },
  {
   "attachments": {},
   "cell_type": "markdown",
   "metadata": {},
   "source": [
    "---\n",
    "# Answer of Problem 1 in Part I\n",
    "---\n",
    "Since each arm's parameter is oracled.\n",
    "\n",
    "So we just need to choose the arm with the largest parameter to have the maximum expectation of aggregate rewards over $N$ time slots.\n",
    "\n",
    "Since $\\theta_1 = 0.7, \\theta_2 = 0.5, \\theta_3 = 0.4$,\n",
    "\n",
    "so $\\theta_1 > \\theta_2 > \\theta_3$,\n",
    "\n",
    "so we choose arm 1 everytime.\n",
    "\n",
    "i.e. $$\\forall t, I(t)=I^*=\\argmax_{j\\in\\{1,2,3\\}}\\theta_j=1$$\n",
    "$$\\theta_{I(t)} = \\theta_1 = 0.7$$\n",
    "\n",
    "Also, since $r_{I(t)} \\sim \\text{Bern}(\\theta_{I(t)})$.\n",
    "\n",
    "So $E(r_{I(t)}) = \\theta_{I(t)}$.\n",
    "\n",
    "So the maximum expected value is \n",
    "$$\\max_{I(t),t=1,2,\\cdots,N}\\ E\\big[\\sum_{t=1}^Nr_{I(t)}\\big]$$\n",
    "$$=\\max_{I(t),t=1,2,\\cdots,N}\\ \\sum_{t=1}^NE\\big[r_{I(t)}\\big]$$\n",
    "$$=N \\cdot \\theta_{I^*} = 5000 \\times 0.7 = 3500$$\n",
    "\n",
    "So above all, with the given oracle parameters, the maximum expected value is 3500.\n",
    "\n",
    "---"
   ]
  },
  {
   "attachments": {},
   "cell_type": "markdown",
   "metadata": {},
   "source": [
    "2. Implement aforemented three classical bandit algorithms with following settings: \n",
    "   \n",
    "\t- $N=5000$\n",
    "\t- $\\epsilon$-greedy with $\\epsilon \\in \\{0.1, 0.5, 0.9\\}$.\n",
    "\t- UCB with $c \\in \\{1,5,10\\}$.\n",
    "\t- TS with\n",
    "    \t- $\\left\\{(\\alpha_1,\\beta_1)=(1,1),(\\alpha_2,\\beta_2)=(1,1),(\\alpha_3,\\beta_3)=(1,1)\\right\\}$ \n",
    "    \t- $\\left\\{(\\alpha_1,\\beta_1)=(601,401),(\\alpha_2,\\beta_2)=(401,601),(\\alpha_3,\\beta_3)=(2,3)\\right\\}$"
   ]
  },
  {
   "attachments": {},
   "cell_type": "markdown",
   "metadata": {},
   "source": [
    "**Your anwser of problem 2 in Part I**"
   ]
  },
  {
   "attachments": {},
   "cell_type": "markdown",
   "metadata": {},
   "source": [
    "---\n",
    "# Answer of Problem 2 in Part I\n",
    "---"
   ]
  },
  {
   "cell_type": "code",
   "execution_count": 1,
   "metadata": {},
   "outputs": [],
   "source": [
    "import matplotlib.pyplot as plt\n",
    "import numpy as np\n",
    "import random, math, copy\n",
    "### Import more packages if you need\n",
    "\n",
    "import tqdm\n",
    "import matplotlib.pyplot as plt"
   ]
  },
  {
   "attachments": {},
   "cell_type": "markdown",
   "metadata": {},
   "source": [
    "---\n",
    "# The initialization of the parameters of different algorithms"
   ]
  },
  {
   "cell_type": "code",
   "execution_count": 2,
   "metadata": {},
   "outputs": [],
   "source": [
    "### Feel free to insert more blocks or helper functions if you need.\n",
    "\n",
    "# since the arm's index are {1,2,3}\n",
    "# so we need to add a 0 at index 0\n",
    "# to make the index of arm's count and theta match the arm's index\n",
    "\n",
    "theta_oracled = [0, 0.7, 0.5, 0.4] # the oracled theta of each arm\n",
    "\n",
    "count = []\n",
    "theta = []\n",
    "\n",
    "def init_greedy():\n",
    "    global count, theta\n",
    "    count = [0, 0, 0, 0] # the initial count of each arm \n",
    "    theta = [0, 0, 0, 0] # the initial theta of each arm\n",
    "\n",
    "def init_UCB():\n",
    "    global count, theta\n",
    "    count = [0, 1, 1, 1] # the initial count of each arm \n",
    "    theta = [0, 0, 0, 0] # the initial theta of each arm\n",
    "    for t in range(1, 4):\n",
    "        arm = t\n",
    "        count[arm] = 1\n",
    "        r_i = np.random.binomial(1, theta_oracled[arm]) # R_I(t) ~ Bern(theta_oracled[I(t)])\n",
    "        theta[arm] = r_i\n",
    "\n",
    "def init_TS():\n",
    "    global count, theta\n",
    "    count = [0, 0, 0, 0] # the initial count of each arm \n",
    "    theta = [0, 0, 0, 0] # the initial theta of each arm"
   ]
  },
  {
   "attachments": {},
   "cell_type": "markdown",
   "metadata": {},
   "source": [
    "---\n",
    "# 1. The epsilon-greedy Algorithm"
   ]
  },
  {
   "cell_type": "code",
   "execution_count": 3,
   "metadata": {},
   "outputs": [],
   "source": [
    "### Implementation of epsilon-Greedy:\n",
    "### n is the number of time slots, epsilon is the parameter of the algorithm\n",
    "### return the total reward\n",
    "def greedy(n, epsilon):\n",
    "    global count, theta\n",
    "    init_greedy() # initialize the count and theta of each arm\n",
    "\n",
    "    sum_theta = 0\n",
    "\n",
    "    for t in range(1, n + 1): # the time slot\n",
    "        prob = random.random() # return value is in [0, 1)\n",
    "        arm = None # the arm to be chosen\n",
    "        if prob < epsilon: # explore (with probability epsilon)\n",
    "            arm = random.randint(1, 3) # randomly choose an arm from {1,2,3}\n",
    "        else: # exploit (with probability 1 - epsilon)\n",
    "            arm = np.argmax(theta) # choose the best arm\n",
    "            if arm == 0: # if this happened, it means that all the theta are 0\n",
    "                # so we can randomly choose an arm from {1,2,3}\n",
    "                arm = random.randint(1, 3) # randomly choose an arm from {1,2,3}\n",
    "        \n",
    "        # print(\"time slot: \", t, \" arm: \", arm)\n",
    "        sum_theta += theta[arm] # update the sum of theta\n",
    "        r_i = np.random.binomial(1, theta_oracled[arm]) # r_i ~ Bern(theta_oracled[arm])\n",
    "\n",
    "        count[arm] += 1 # update the count of the chosen arm\n",
    "        theta[arm] += 1 / count[arm] * (r_i - theta[arm]) # update the theta of the chosen arm\n",
    "    \n",
    "    reward = count[1] * theta[1] + count[2] * theta[2] + count[3] * theta[3] # the expectation of the reward\n",
    "    regret = n * np.max(theta) - sum_theta # the regret\n",
    "    return reward, regret # return the total reward and regret"
   ]
  },
  {
   "attachments": {},
   "cell_type": "markdown",
   "metadata": {},
   "source": [
    "---\n",
    "# 2. The UCB Algorithm"
   ]
  },
  {
   "cell_type": "code",
   "execution_count": 32,
   "metadata": {},
   "outputs": [],
   "source": [
    "### Implementation of UCB Algorithm:\n",
    "### n is the number of time slots, c is the parameter of the algorithm\n",
    "### return the total reward\n",
    "def UCB(n, c):\n",
    "    global count, theta\n",
    "    init_UCB() # initialize the count and theta of each arm\n",
    "    sum_theta = theta[1] + theta[2] + theta[3]\n",
    "    \n",
    "    for t in range(4, n + 1):\n",
    "        arm = np.argmax([theta[i] + c * math.sqrt(2 * math.log(t) / count[i]) for i in range(1, 4)]) + 1\n",
    "        r_i = np.random.binomial(1, theta_oracled[arm]) # r_i ~ Bern(theta_oracled[arm])\n",
    "        \n",
    "        count[arm] += 1 # update the count of the chosen arm\n",
    "        theta[arm] += 1 / count[arm] * (r_i - theta[arm]) # update the theta of the chosen arm\n",
    "    \n",
    "        sum_theta += theta[arm]\n",
    "\n",
    "    reward = count[1] * theta[1] + count[2] * theta[2] + count[3] * theta[3] # the expectation of the reward\n",
    "    regret = n * np.max(theta) - sum_theta # the regret\n",
    "    return reward, regret # return the total reward and regret"
   ]
  },
  {
   "attachments": {},
   "cell_type": "markdown",
   "metadata": {},
   "source": [
    "---\n",
    "# 3. The Thompson Sampling Algorithm"
   ]
  },
  {
   "cell_type": "code",
   "execution_count": 16,
   "metadata": {},
   "outputs": [],
   "source": [
    "### Implementation of TS Algorithm\n",
    "### n is the number of time slots, a and b are the parameters of the algorithm\n",
    "### return the total reward\n",
    "def TS(n, a, b):\n",
    "    global count, theta\n",
    "    init_TS()\n",
    "    reward = 0 # the expectation of the reward\n",
    "    sum_theta = 0 # the sum of theta\n",
    "    max_theta = 0 # the max theta\n",
    "\n",
    "    for t in range(1, n + 1):\n",
    "        for i in range(1, 4):\n",
    "            theta[i] = np.random.beta(a[i], b[i]) # theta[i] ~ Beta(a[i], b[i])\n",
    "        arm = np.argmax(theta[1:4]) + 1 # choose the best arm\n",
    "        r_i = np.random.binomial(1, theta_oracled[arm]) # r_i ~ Bern(theta_oracled[arm])\n",
    "\n",
    "        a[arm] += r_i # update a[arm]\n",
    "        b[arm] += 1 - r_i # update b[arm]\n",
    "\n",
    "        reward += r_i # update the expectation of the reward\n",
    "        sum_theta += theta[arm] # update the sum of theta\n",
    "        max_theta = np.max([max_theta, np.max(theta[1:4])]) # update the max theta\n",
    "    \n",
    "    regret = n * max_theta - sum_theta # the regret\n",
    "    return reward, regret # return the total reward and regret"
   ]
  },
  {
   "attachments": {},
   "cell_type": "markdown",
   "metadata": {},
   "source": [
    "3. Regard each of the above setting in problem 2 of Part I as an experiment (in total $8$ experiments).\n",
    "Run each experiment $200$ independent trials (change the random seed).\n",
    "Plot the final result (in terms of rewards and regrets) averaged over these $200$ trials."
   ]
  },
  {
   "attachments": {},
   "cell_type": "markdown",
   "metadata": {},
   "source": [
    "**Your anwser of problem 3 in Part I**"
   ]
  },
  {
   "attachments": {},
   "cell_type": "markdown",
   "metadata": {},
   "source": [
    "---\n",
    "# Answer of Problem 3 in Part I\n",
    "---\n",
    "# settings"
   ]
  },
  {
   "cell_type": "code",
   "execution_count": 17,
   "metadata": {},
   "outputs": [],
   "source": [
    "N = 5000\n",
    "repeat_time = 200"
   ]
  },
  {
   "attachments": {},
   "cell_type": "markdown",
   "metadata": {},
   "source": [
    "# 1. The epsilon-greedy Algorithm\n",
    "---"
   ]
  },
  {
   "cell_type": "code",
   "execution_count": 7,
   "metadata": {},
   "outputs": [
    {
     "name": "stderr",
     "output_type": "stream",
     "text": [
      "100%|██████████| 200/200 [00:13<00:00, 14.67it/s]\n",
      "100%|██████████| 200/200 [00:10<00:00, 19.98it/s]\n",
      "100%|██████████| 200/200 [00:07<00:00, 27.04it/s]\n"
     ]
    }
   ],
   "source": [
    "### Your code for problem 1.3. Feel free to insert more blocks or helper functions if you need.\n",
    "\n",
    "epsilon = [0.1, 0.5, 0.9]\n",
    "rewards = [0, 0, 0]\n",
    "regrets = [0, 0, 0]\n",
    "\n",
    "for i in range(3):\n",
    "    for _ in tqdm.tqdm(range(repeat_time)):\n",
    "        reward, regret = greedy(N, epsilon[i])\n",
    "        rewards[i] += reward / repeat_time\n",
    "        regrets[i] += regret / repeat_time"
   ]
  },
  {
   "cell_type": "code",
   "execution_count": 9,
   "metadata": {},
   "outputs": [
    {
     "name": "stdout",
     "output_type": "stream",
     "text": [
      "epsilon =  0.1  reward =  3401.039999999999  regret =  96.25954669680347\n",
      "epsilon =  0.5  reward =  3081.265000000001  regret =  418.0533831467074\n",
      "epsilon =  0.9  reward =  2749.7150000000024  regret =  755.1482363262036\n"
     ]
    },
    {
     "data": {
      "text/plain": [
       "([<matplotlib.axis.XTick at 0x18ff379f370>,\n",
       "  <matplotlib.axis.XTick at 0x18ff379f340>,\n",
       "  <matplotlib.axis.XTick at 0x18ff3779100>],\n",
       " [Text(0, 0, ''), Text(0, 0, ''), Text(0, 0, '')])"
      ]
     },
     "execution_count": 9,
     "metadata": {},
     "output_type": "execute_result"
    },
    {
     "data": {
      "image/png": "[encoded data removed]",
      "text/plain": [
       "<Figure size 432x288 with 1 Axes>"
      ]
     },
     "metadata": {
      "needs_background": "light"
     },
     "output_type": "display_data"
    }
   ],
   "source": [
    "# plot the result\n",
    "for i in range(len(epsilon)):\n",
    "    print(\"epsilon = \", epsilon[i], \" reward = \", rewards[i], \" regret = \", regrets[i])\n",
    "\n",
    "plt.plot(epsilon,rewards)\n",
    "plt.plot(epsilon,regrets)\n",
    "plt.scatter(epsilon, rewards, c = 'red')\n",
    "plt.scatter(epsilon, regrets, c = 'red')\n",
    "\n",
    "plt.legend([\"reward\", \"regret\"])\n",
    "plt.xlabel(\"epsilon\")\n",
    "plt.ylabel(\"reward/regret\")\n",
    "plt.title(\"epsilon-Greedy Algorithm\")\n",
    "plt.xticks(epsilon)"
   ]
  },
  {
   "attachments": {},
   "cell_type": "markdown",
   "metadata": {},
   "source": [
    "# further exploration of the epsilon-greedy Algorithm\n",
    "To have a further exploration on the epsilon-greedy Algorithm,\n",
    "\n",
    "we can set the epsilon to be a function of time.\n",
    "\n",
    "i.e.\n",
    "\n",
    "1. inverse ratio: $\\epsilon(t) = \\dfrac{1}{t}$\n",
    "\n",
    "2. linear: $\\epsilon(t) = 1 - \\dfrac{t - 1}{N - 1}$\n",
    "\n",
    "3. the logarithmic function: $\\epsilon(t) = \\dfrac{1}{\\log(t)+1}$\n",
    "\n",
    "4. the exponential function: $\\epsilon(t) = 0.98^t$\n",
    "\n",
    "And we can put them into experiment to test the performance of the epsilon-greedy Algorithm."
   ]
  },
  {
   "cell_type": "code",
   "execution_count": 5,
   "metadata": {},
   "outputs": [],
   "source": [
    "def greedy_function(n, epsilon): # same as the original greedy algorithm\n",
    "                        # but the epsilon is a function epsilon(t)\n",
    "    global count, theta\n",
    "    init_greedy() # initialize the count and theta of each arm\n",
    "\n",
    "    sum_theta = 0\n",
    "\n",
    "    for t in range(1, n + 1): # the time slot\n",
    "        prob = random.random() # return value is in [0, 1)\n",
    "        arm = None # the arm to be chosen\n",
    "        if prob < epsilon[t]: # explore (with probability epsilon)\n",
    "            arm = random.randint(1, 3) # randomly choose an arm from {1,2,3}\n",
    "        else: # exploit (with probability 1 - epsilon)\n",
    "            arm = np.argmax(theta) # choose the best arm\n",
    "            if arm == 0: # if this happened, it means that all the theta are 0\n",
    "                # so we can randomly choose an arm from {1,2,3}\n",
    "                arm = random.randint(1, 3) # randomly choose an arm from {1,2,3}\n",
    "        \n",
    "        # print(\"time slot: \", t, \" arm: \", arm)\n",
    "        sum_theta += theta[arm] # update the sum of theta\n",
    "        r_i = np.random.binomial(1, theta_oracled[arm]) # r_i ~ Bern(theta_oracled[arm])\n",
    "\n",
    "        count[arm] += 1 # update the count of the chosen arm\n",
    "        theta[arm] += 1 / count[arm] * (r_i - theta[arm]) # update the theta of the chosen arm\n",
    "    \n",
    "    reward = count[1] * theta[1] + count[2] * theta[2] + count[3] * theta[3] # the expectation of the reward\n",
    "    regret = n * np.max(theta) - sum_theta # the regret\n",
    "    return reward, regret # return the total reward and regret"
   ]
  },
  {
   "cell_type": "code",
   "execution_count": 14,
   "metadata": {},
   "outputs": [
    {
     "name": "stderr",
     "output_type": "stream",
     "text": [
      "100%|██████████| 200/200 [00:11<00:00, 17.61it/s]\n",
      "100%|██████████| 200/200 [00:09<00:00, 21.86it/s]\n",
      "100%|██████████| 200/200 [00:09<00:00, 20.51it/s]\n",
      "100%|██████████| 200/200 [00:10<00:00, 18.53it/s]\n"
     ]
    }
   ],
   "source": [
    "epsilon_inverse = [0] + [1 / t for t in range(1, N + 1)]\n",
    "epsilon_linear = [0] + [1 - 1 / (N - 1) * (t - 1) for t in range(1, N + 1)]\n",
    "epsilon_log = [0] + [1 / (1 + math.log(t)) for t in range(1, N + 1)]\n",
    "epsilon_exp = [0] + [0.98 ** t for t in range(1, N + 1)]\n",
    "\n",
    "epsilon = [epsilon_inverse, epsilon_linear, epsilon_log, epsilon_exp]\n",
    "\n",
    "rewards = [0, 0, 0, 0]\n",
    "regrets = [0, 0, 0, 0]\n",
    "\n",
    "for i in range(4):\n",
    "    for _ in tqdm.tqdm(range(repeat_time)):\n",
    "        reward, regret = greedy_function(N, epsilon[i])\n",
    "        rewards[i] += reward / repeat_time\n",
    "        regrets[i] += regret / repeat_time"
   ]
  },
  {
   "cell_type": "code",
   "execution_count": 25,
   "metadata": {},
   "outputs": [
    {
     "name": "stdout",
     "output_type": "stream",
     "text": [
      "1. inverse ratio:\n",
      "   epsilon(t) = 1 / t\n",
      "   reward =  3293.8100000000004 \n",
      "   regret =  15.908469515101356 \n",
      "\n",
      "2. linear:\n",
      "   epsilon(t) = 1 - 1 / (N - 1) * (t - 1)\n",
      "   reward =  3080.3550000000005 \n",
      "   regret =  414.92228599960885 \n",
      "\n",
      "3. the logarithmic function:\n",
      "   epsilon(t) = 1 / (1 + log(t))\n",
      "   reward =  3396.245000000001 \n",
      "   regret =  105.6549611319986 \n",
      "\n",
      "4. the exponential function:\n",
      "   epsilon(t) = 0.98 ^ t\n",
      "   reward =  3468.9649999999992 \n",
      "   regret =  6.458722511804319 \n",
      "\n"
     ]
    },
    {
     "data": {
      "text/plain": [
       "([<matplotlib.axis.XTick at 0x1b4d66e4e50>,\n",
       "  <matplotlib.axis.XTick at 0x1b4d66e4e80>,\n",
       "  <matplotlib.axis.XTick at 0x1b4d66e4a60>,\n",
       "  <matplotlib.axis.XTick at 0x1b4d6700b20>],\n",
       " [Text(0, 0, ''), Text(0, 0, ''), Text(0, 0, ''), Text(0, 0, '')])"
      ]
     },
     "execution_count": 25,
     "metadata": {},
     "output_type": "execute_result"
    },
    {
     "data": {
      "image/png": "[encoded data removed]",
      "text/plain": [
       "<Figure size 432x288 with 1 Axes>"
      ]
     },
     "metadata": {
      "needs_background": "light"
     },
     "output_type": "display_data"
    }
   ],
   "source": [
    "# plot the result\n",
    "print(\"1. inverse ratio:\\n   epsilon(t) = 1 / t\\n   reward = \", rewards[0], \"\\n   regret = \", regrets[0], \"\\n\")\n",
    "print(\"2. linear:\\n   epsilon(t) = 1 - 1 / (N - 1) * (t - 1)\\n   reward = \", rewards[1], \"\\n   regret = \", regrets[1], \"\\n\")\n",
    "print(\"3. the logarithmic function:\\n   epsilon(t) = 1 / (1 + log(t))\\n   reward = \", rewards[2], \"\\n   regret = \", regrets[2], \"\\n\")\n",
    "print(\"4. the exponential function:\\n   epsilon(t) = 0.98 ^ t\\n   reward = \", rewards[3], \"\\n   regret = \", regrets[3], \"\\n\")\n",
    "\n",
    "epsilon_name = ['inversr', 'linear', 'log', 'exp']\n",
    "plt.plot(epsilon_name,rewards)\n",
    "plt.plot(epsilon_name,regrets)\n",
    "plt.scatter(epsilon_name, rewards, c = 'red')\n",
    "plt.scatter(epsilon_name, regrets, c = 'red')\n",
    "\n",
    "plt.legend([\"reward\", \"regret\"])\n",
    "plt.xlabel(\"epsilon_function\")\n",
    "plt.ylabel(\"reward/regret\")\n",
    "plt.title(\"epsilon-Greedy Algorithm\")\n",
    "plt.xticks(epsilon_name)"
   ]
  },
  {
   "attachments": {},
   "cell_type": "markdown",
   "metadata": {},
   "source": [
    "---\n",
    "# 2. The UCB Algorithm"
   ]
  },
  {
   "cell_type": "code",
   "execution_count": 34,
   "metadata": {},
   "outputs": [
    {
     "name": "stderr",
     "output_type": "stream",
     "text": [
      "100%|██████████| 200/200 [00:15<00:00, 12.99it/s]\n",
      "100%|██████████| 200/200 [00:14<00:00, 13.68it/s]\n",
      "100%|██████████| 200/200 [00:13<00:00, 14.62it/s]\n"
     ]
    }
   ],
   "source": [
    "c = [1, 5, 10]\n",
    "rewards = [0, 0, 0]\n",
    "regrets = [0, 0, 0]\n",
    "\n",
    "for i in range(3):\n",
    "    for _ in tqdm.tqdm(range(repeat_time)):\n",
    "        reward, regret = UCB(N, c[i])\n",
    "        rewards[i] += reward / repeat_time\n",
    "        regrets[i] += regret / repeat_time"
   ]
  },
  {
   "cell_type": "code",
   "execution_count": 35,
   "metadata": {},
   "outputs": [
    {
     "name": "stdout",
     "output_type": "stream",
     "text": [
      "c =  1  reward =  3405.9050000000025  regret =  82.04944510479272\n",
      "c =  5  reward =  2981.59  regret =  516.573424366621\n",
      "c =  10  reward =  2826.27  regret =  672.8341245829002\n"
     ]
    },
    {
     "data": {
      "text/plain": [
       "([<matplotlib.axis.XTick at 0x1ed85554d30>,\n",
       "  <matplotlib.axis.XTick at 0x1ed85554d00>,\n",
       "  <matplotlib.axis.XTick at 0x1ed855543d0>],\n",
       " [Text(0, 0, ''), Text(0, 0, ''), Text(0, 0, '')])"
      ]
     },
     "execution_count": 35,
     "metadata": {},
     "output_type": "execute_result"
    },
    {
     "data": {
      "image/png": "[encoded data removed]",
      "text/plain": [
       "<Figure size 432x288 with 1 Axes>"
      ]
     },
     "metadata": {
      "needs_background": "light"
     },
     "output_type": "display_data"
    }
   ],
   "source": [
    "# plot the result\n",
    "for i in range(len(c)):\n",
    "    print(\"c = \", c[i], \" reward = \", rewards[i], \" regret = \", regrets[i])\n",
    "\n",
    "plt.plot(c,rewards)\n",
    "plt.plot(c,regrets)\n",
    "plt.scatter(c, rewards, c = 'red')\n",
    "plt.scatter(c, regrets, c = 'red')\n",
    "\n",
    "plt.legend([\"reward\", \"regret\"])\n",
    "plt.xlabel(\"c\")\n",
    "plt.ylabel(\"reward/regret\")\n",
    "plt.title(\"UCB Algorithm\")\n",
    "plt.xticks(c)"
   ]
  },
  {
   "attachments": {},
   "cell_type": "markdown",
   "metadata": {},
   "source": [
    "# further exploration of the UCB Algorithm\n",
    "\n",
    "To have a further exploration on the UCB Algorithm,\n",
    "\n",
    "we can set the c to be a function of time.\n",
    "\n",
    "i.e.\n",
    "\n",
    "1. inverse ratio: $c(t) = 1 + \\dfrac{1}{t}$\n",
    "\n",
    "2. linear: $c(t) = 10 - \\dfrac{9(t - 1)}{N - 1}$\n",
    "\n",
    "3. the logarithmic function: $c(t) = 1 + \\dfrac{1}{\\log(t)+1}$\n",
    "\n",
    "4. the exponential function: $c(t) = 1 + 0.95^t$\n",
    "\n",
    "And we can put them into experiment to test the performance of the UCB Algorithm.\n",
    "\n",
    "The functions' setting are very samilar to those in the epsilon-greedy algorthm, however, we added a limitation that $c\\geq 1$ must always holds. This is to make sure we have enough exploration in the early stage of the experiment."
   ]
  },
  {
   "cell_type": "code",
   "execution_count": 4,
   "metadata": {},
   "outputs": [],
   "source": [
    "def UCB_function(n, c):\n",
    "    global count, theta\n",
    "    init_UCB() # initialize the count and theta of each arm\n",
    "    sum_theta = theta[1] + theta[2] + theta[3]\n",
    "    \n",
    "    for t in range(4, n + 1):\n",
    "        arm = np.argmax([theta[i] + c[t] * math.sqrt(2 * math.log(t) / count[i]) for i in range(1, 4)]) + 1\n",
    "        r_i = np.random.binomial(1, theta_oracled[arm]) # r_i ~ Bern(theta_oracled[arm])\n",
    "        \n",
    "        count[arm] += 1 # update the count of the chosen arm\n",
    "        theta[arm] += 1 / count[arm] * (r_i - theta[arm]) # update the theta of the chosen arm\n",
    "    \n",
    "        sum_theta += theta[arm]\n",
    "\n",
    "    reward = count[1] * theta[1] + count[2] * theta[2] + count[3] * theta[3] # the expectation of the reward\n",
    "    regret = n * np.max(theta) - sum_theta # the regret\n",
    "    return reward, regret # return the total reward and regret"
   ]
  },
  {
   "cell_type": "code",
   "execution_count": 12,
   "metadata": {},
   "outputs": [
    {
     "name": "stderr",
     "output_type": "stream",
     "text": [
      "100%|██████████| 200/200 [00:14<00:00, 14.00it/s]\n",
      "100%|██████████| 200/200 [00:14<00:00, 14.16it/s]\n",
      "100%|██████████| 200/200 [00:13<00:00, 14.79it/s]\n",
      "100%|██████████| 200/200 [00:14<00:00, 14.14it/s]\n"
     ]
    }
   ],
   "source": [
    "c_inverse = [0] + [1 + 1 / t for t in range(1, N + 1)]\n",
    "c_linear = [0] + [10 - 9 / (N - 1) * (t - 1) for t in range(1, N + 1)]\n",
    "c_log = [0] + [1 + 1 / (1 + math.log(t)) for t in range(1, N + 1)]\n",
    "c_exp = [0] + [1 + 0.95 ** t for t in range(1, N + 1)]\n",
    "\n",
    "c = [c_inverse, c_linear, c_log, c_exp]\n",
    "\n",
    "rewards = [0, 0, 0, 0]\n",
    "regrets = [0, 0, 0, 0]\n",
    "\n",
    "import tqdm \n",
    "for i in range(4):\n",
    "    for _ in tqdm.tqdm(range(repeat_time)):\n",
    "        reward, regret = UCB_function(N, c[i])\n",
    "        rewards[i] += reward / repeat_time\n",
    "        regrets[i] += regret / repeat_time"
   ]
  },
  {
   "cell_type": "code",
   "execution_count": 13,
   "metadata": {},
   "outputs": [
    {
     "name": "stdout",
     "output_type": "stream",
     "text": [
      "1. inverse ratio:\n",
      "   c(t) = 1 + 1 / t\n",
      "   reward =  3408.110000000001 \n",
      "   regret =  84.73971904110107 \n",
      "\n",
      "2. linear:\n",
      "   c(t) = 10 - 9 / (N - 1) * (t - 1)\n",
      "   reward =  3156.984999999999 \n",
      "   regret =  338.3313144129357 \n",
      "\n",
      "3. the logarithmic function:\n",
      "   c(t) = 1 + 1 / (1 + log(t))\n",
      "   reward =  3396.215000000001 \n",
      "   regret =  107.7315133377539 \n",
      "\n",
      "4. the exponential function:\n",
      "   c(t) = 1 + 0.98 ^ t\n",
      "   reward =  3411.184999999999 \n",
      "   regret =  84.46226253149558 \n",
      "\n"
     ]
    },
    {
     "data": {
      "text/plain": [
       "([<matplotlib.axis.XTick at 0x209a49be820>,\n",
       "  <matplotlib.axis.XTick at 0x209a59809d0>,\n",
       "  <matplotlib.axis.XTick at 0x209a7ddea90>,\n",
       "  <matplotlib.axis.XTick at 0x209a7f31d60>],\n",
       " [Text(0, 0, ''), Text(0, 0, ''), Text(0, 0, ''), Text(0, 0, '')])"
      ]
     },
     "execution_count": 13,
     "metadata": {},
     "output_type": "execute_result"
    },
    {
     "data": {
      "image/png": "[encoded data removed]",
      "text/plain": [
       "<Figure size 432x288 with 1 Axes>"
      ]
     },
     "metadata": {
      "needs_background": "light"
     },
     "output_type": "display_data"
    }
   ],
   "source": [
    "# plot the result\n",
    "print(\"1. inverse ratio:\\n   c(t) = 1 + 1 / t\\n   reward = \", rewards[0], \"\\n   regret = \", regrets[0], \"\\n\")\n",
    "print(\"2. linear:\\n   c(t) = 10 - 9 / (N - 1) * (t - 1)\\n   reward = \", rewards[1], \"\\n   regret = \", regrets[1], \"\\n\")\n",
    "print(\"3. the logarithmic function:\\n   c(t) = 1 + 1 / (1 + log(t))\\n   reward = \", rewards[2], \"\\n   regret = \", regrets[2], \"\\n\")\n",
    "print(\"4. the exponential function:\\n   c(t) = 1 + 0.95 ^ t\\n   reward = \", rewards[3], \"\\n   regret = \", regrets[3], \"\\n\")\n",
    "\n",
    "c_name = ['inversr', 'linear', 'log', 'exp']\n",
    "plt.plot(c_name,rewards)\n",
    "plt.plot(c_name,regrets)\n",
    "plt.scatter(c_name, rewards, c = 'red')\n",
    "plt.scatter(c_name, regrets, c = 'red')\n",
    "\n",
    "plt.legend([\"reward\", \"regret\"])\n",
    "plt.xlabel(\"c_function\")\n",
    "plt.ylabel(\"reward/regret\")\n",
    "plt.title(\"UCB Algorithm\")\n",
    "plt.xticks(c_name)"
   ]
  },
  {
   "attachments": {},
   "cell_type": "markdown",
   "metadata": {},
   "source": [
    "---\n",
    "# 3. The Thompson Sampling Algorithm"
   ]
  },
  {
   "cell_type": "code",
   "execution_count": 31,
   "metadata": {},
   "outputs": [
    {
     "name": "stderr",
     "output_type": "stream",
     "text": [
      "100%|██████████| 200/200 [00:36<00:00,  5.54it/s]\n",
      "100%|██████████| 200/200 [00:35<00:00,  5.70it/s]\n"
     ]
    }
   ],
   "source": [
    "a = [[0, 1, 1, 1], [0, 601, 401, 2]]\n",
    "b = [[0, 1, 1, 1], [0, 401, 601, 3]]\n",
    "\n",
    "rewards = [0, 0]\n",
    "regrets = [0, 0]\n",
    "for i in range(2):\n",
    "    for _ in tqdm.tqdm(range(repeat_time)):\n",
    "        reward, regret = TS(N, a[i], b[i])\n",
    "        rewards[i] += reward / repeat_time\n",
    "        regrets[i] += regret / repeat_time"
   ]
  },
  {
   "cell_type": "code",
   "execution_count": 32,
   "metadata": {},
   "outputs": [
    {
     "name": "stdout",
     "output_type": "stream",
     "text": [
      "alpha = [1, 1, 1]     beta = [1, 1, 1]      reward =  3497.070000000002  regret =  39.02128959851645\n",
      "alpha = [601, 401, 2] beta = [401, 601, 3]  reward =  3499.620000000002  regret =  23.78772822924203\n"
     ]
    },
    {
     "data": {
      "text/plain": [
       "([<matplotlib.axis.XTick at 0x2f4b0280e50>,\n",
       "  <matplotlib.axis.XTick at 0x2f4b0280f70>],\n",
       " [Text(0, 0, ''), Text(0, 0, '')])"
      ]
     },
     "execution_count": 32,
     "metadata": {},
     "output_type": "execute_result"
    },
    {
     "data": {
      "image/png": "[encoded data removed]",
      "text/plain": [
       "<Figure size 432x288 with 1 Axes>"
      ]
     },
     "metadata": {
      "needs_background": "light"
     },
     "output_type": "display_data"
    }
   ],
   "source": [
    "### Your code for problem 1.4. Feel free to insert more blocks or helper functions if you need.\n",
    "print(\"alpha = [1, 1, 1]     beta = [1, 1, 1]      reward = \", rewards[0], \" regret = \", regrets[0])\n",
    "print(\"alpha = [601, 401, 2] beta = [401, 601, 3]  reward = \", rewards[1], \" regret = \", regrets[1])\n",
    "\n",
    "x = [r\"$(\\alpha_1,\\beta_1)=(1,1),(\\alpha_2,\\beta_2)=(1,1),(\\alpha_3,\\beta_3)=(1,1)$\",r\"$(\\alpha_1,\\beta_1)=(601,401),(\\alpha_2,\\beta_2)=(401,601),(\\alpha_3,\\beta_3)=(2,3)$\"]\n",
    "plt.plot(x,rewards)\n",
    "plt.plot(x,regrets)\n",
    "plt.scatter(x, rewards, c = 'red')\n",
    "plt.scatter(x, regrets, c = 'red')\n",
    "\n",
    "plt.legend([\"reward\", \"regret\"])\n",
    "plt.xlabel(\"settings of alpha and beta\")\n",
    "plt.ylabel(\"reward/regret\")\n",
    "plt.title(\"Thompson Sampling Algorithm\")\n",
    "plt.xticks(x)"
   ]
  },
  {
   "attachments": {},
   "cell_type": "markdown",
   "metadata": {},
   "source": [
    "# further exploration of the Thompson Sampling Algorithm\n",
    "\n",
    "\n"
   ]
  },
  {
   "cell_type": "code",
   "execution_count": 19,
   "metadata": {},
   "outputs": [
    {
     "name": "stderr",
     "output_type": "stream",
     "text": [
      "100%|██████████| 200/200 [00:36<00:00,  5.50it/s]\n",
      "100%|██████████| 200/200 [00:32<00:00,  6.07it/s]\n"
     ]
    }
   ],
   "source": [
    "a = [[0, 1001, 505, 1], [0, 801, 201, 201]]\n",
    "b = [[0, 1, 505, 1001], [0, 201, 801, 501]]\n",
    "\n",
    "rewards = [0, 0]\n",
    "regrets = [0, 0]\n",
    "import tqdm\n",
    "for i in range(2):\n",
    "    for _ in tqdm.tqdm(range(repeat_time)):\n",
    "        reward, regret = TS(N, a[i], b[i])\n",
    "        rewards[i] += reward / repeat_time\n",
    "        regrets[i] += regret / repeat_time"
   ]
  },
  {
   "cell_type": "code",
   "execution_count": 20,
   "metadata": {},
   "outputs": [
    {
     "name": "stdout",
     "output_type": "stream",
     "text": [
      "alpha = [1001, 505, 1] beta = [1, 505, 1001]    reward =  3501.8  regret =  20.564764764082966\n",
      "alpha = [801, 201, 201] beta = [201, 801, 501]  reward =  3502.310000000001  regret =  17.802466848076552\n"
     ]
    },
    {
     "data": {
      "text/plain": [
       "([<matplotlib.axis.XTick at 0x209ab785280>,\n",
       "  <matplotlib.axis.XTick at 0x209ab7852b0>],\n",
       " [Text(0, 0, ''), Text(0, 0, '')])"
      ]
     },
     "execution_count": 20,
     "metadata": {},
     "output_type": "execute_result"
    },
    {
     "data": {
      "image/png": "[encoded data removed]",
      "text/plain": [
       "<Figure size 432x288 with 1 Axes>"
      ]
     },
     "metadata": {
      "needs_background": "light"
     },
     "output_type": "display_data"
    }
   ],
   "source": [
    "print(\"alpha = [1001, 505, 1] beta = [1, 505, 1001]    reward = \", rewards[0], \" regret = \", regrets[0])\n",
    "print(\"alpha = [801, 201, 201] beta = [201, 801, 501]  reward = \", rewards[1], \" regret = \", regrets[1])\n",
    "\n",
    "x = [r\"$(\\alpha_1,\\beta_1)=(1001,1),(\\alpha_2,\\beta_2)=(505,505),(\\alpha_3,\\beta_3)=(1,1001)$\",r\"$(\\alpha_1,\\beta_1)=(801,201),(\\alpha_2,\\beta_2)=(201,801),(\\alpha_3,\\beta_3)=(201,501)$\"]\n",
    "plt.plot(x,rewards)\n",
    "plt.plot(x,regrets)\n",
    "plt.scatter(x, rewards, c = 'red')\n",
    "plt.scatter(x, regrets, c = 'red')\n",
    "\n",
    "plt.legend([\"reward\", \"regret\"])\n",
    "plt.xlabel(\"settings of alpha and beta\")\n",
    "plt.ylabel(\"reward/regret\")\n",
    "plt.title(\"Thompson Sampling Algorithm\")\n",
    "plt.xticks(x)"
   ]
  },
  {
   "attachments": {},
   "cell_type": "markdown",
   "metadata": {},
   "source": [
    "4. Compute the gaps between the algorithm outputs (aggregated rewards over $N$ time slots) and the oracle value. Compare the numerical results of $\\epsilon$-greedy, UCB, and TS.\n",
    "   - Which one is the best?\n",
    "   - Discuss the impacts of $\\epsilon$, $c$, and $\\alpha_{j}$, $\\beta_{j}$, respectively. "
   ]
  },
  {
   "attachments": {},
   "cell_type": "markdown",
   "metadata": {},
   "source": [
    "**Your anwser of problem 4 in Part I**"
   ]
  },
  {
   "attachments": {},
   "cell_type": "markdown",
   "metadata": {},
   "source": [
    "---\n",
    "# Answer of Problem 4 in Part I\n",
    "---"
   ]
  },
  {
   "attachments": {},
   "cell_type": "markdown",
   "metadata": {},
   "source": [
    "## 1. the epsilon-greedy algorithm\n",
    "\n",
    "### <1> the original\n",
    "\n",
    "| epsilon |   Reward  | Regret  |\n",
    "|:-------:|:---------:|:-------:|\n",
    "|   0.1   | 3401.04   | 96.26   |\n",
    "|   0.5   | 3081.265  | 418.053 |\n",
    "|   0.9   | 2749.715  | 755.148 |\n",
    "\n",
    "### <2> further exploration\n",
    "We can set that the $\\epsilon$ changes as time changing, i.e. $\\epsilon$ is a function of $t:\\epsilon(t)$.\n",
    "\n",
    "|   property    |     $\\epsilon(t)$     |   Reward  | Regret  |\n",
    "|:-------------:|:---------------------:|:---------:|:-------:|\n",
    "| inverse ratio | $\\dfrac{1}{t}$        | 3293.81   | 15.908  |\n",
    "| linear        | $1-\\dfrac{t-1}{N-1}$  | 3080.355  | 414.922 |\n",
    "| log           | $\\dfrac{1}{1+log(t)}$ | 3396.245  | 105.655 |\n",
    "| exp           | $0.98^t$              | 3468.965  | 6.459   |\n",
    "\n",
    "## 2. the UCB algorithm\n",
    "\n",
    "### <1> the original\n",
    "\n",
    "| c   |   Reward  | Regret  |\n",
    "|:---:|:---------:|:-------:|\n",
    "| 1   | 3405.905  | 82.049  |\n",
    "| 5   | 2981.59   | 516.573 |\n",
    "| 10  | 2826.27   | 672.834 |\n",
    "\n",
    "### <2> further exploration\n",
    "\n",
    "We can set that the $c$ changes as time changing, i.e. $c$ is a function of $t:c(t)$.\n",
    "\n",
    "|   property    |       $\\epsilon(t)$       |  Reward   | Regret  |\n",
    "|:-------------:|:-------------------------:|:---------:|:-------:|\n",
    "| inverse ratio | $1 + \\dfrac{1}{t}$        | 3408.11   | 84.74   |\n",
    "| linear        | $10 -\\dfrac{9(t-1)}{N-1}$ | 3156.985  | 338.331 |\n",
    "| log           | $1 + \\dfrac{1}{1+log(t)}$ | 3396.215  | 107.731 |\n",
    "| exp           | $1 + 0.95^t$              | 3411.185  | 84.462  |\n",
    "\n",
    "## 3. the Thompson Sampling algorithm\n",
    "\n",
    "### <1> the original\n",
    "\n",
    "| $\\alpha,\\beta$ setting   |   Reward  | Regret  |\n",
    "|:---:|:---------:|:-------:|\n",
    "| $(\\alpha_1,\\beta_1)=(1,1),(\\alpha_2,\\beta_2)=(1,1),(\\alpha_3,\\beta_3)=(1,1)$           | 3497.07  | 39.021 |\n",
    "| $(\\alpha_1,\\beta_1)=(601,401),(\\alpha_2,\\beta_2)=(401,601),(\\alpha_3,\\beta_3)=(2,3)$   | 3499.62  | 23.788 |\n",
    "\n",
    "### <2> further exploration\n",
    "\n",
    "If we set the prior settings of $\\alpha,\\beta$, we could find that the \n",
    "\n",
    "| $\\alpha,\\beta$ setting   |   Reward  | Regret  |\n",
    "|:---:|:---------:|:-------:|\n",
    "| $(\\alpha_1,\\beta_1)=(1001,1),(\\alpha_2,\\beta_2)=(505,505),(\\alpha_3,\\beta_3)=(1,1001)$    | 3501.8    | 20.565 |\n",
    "| $(\\alpha_1,\\beta_1)=(801,201),(\\alpha_2,\\beta_2)=(201,801),(\\alpha_3,\\beta_3)=(201,501)$  | 3502.31   | 17.802 |\n",
    "\n",
    "\n",
    "# Which one is the best?\n",
    "\n",
    "Comparing all rewards among the experiments we have done, we could find that the Thompson Sampling algorithm is the best one.\n",
    "\n",
    "Using the given data in the problem, among all algorithm, we could find that the reward of the Thompson Sampling algorithm with parameter $\\{(\\alpha_1,\\beta_1)=(601,401),(\\alpha_2,\\beta_2)=(401,601),(\\alpha_3,\\beta_3)=(2,3)\\}$ is the highest. And its reward is $3499.62$.\n",
    "\n",
    "Using the our further exploration methods, among all algorithm, we could find that the reward of the Thompson Sampling algorithm with parameter $\\{(\\alpha_1,\\beta_1)=(801,201),(\\alpha_2,\\beta_2)=(201,801),(\\alpha_3,\\beta_3)=(201,501)\\}$ is the highest. And its reward is $3502.31$.\n",
    "\n",
    "# Discuss the impacts of $\\epsilon$, $c$, and $\\alpha_{j}$, $\\beta_{j}$, respectively.\n",
    "\n",
    "## 1. the epsilon-greedy algorithm\n",
    "\n",
    "In the epsilon-greedy algorithm, we have a parameter $\\epsilon$ to decide the probability of exploration and exploitation.\n",
    "\n",
    "As the desription, we may randomly choose an arm with probability of $\\epsilon$, which symbolize the exploration. And we may choose the best arm we have found with probability of $1-\\epsilon$, which symbolize the exploitation.\n",
    "\n",
    "If we set $\\epsilon$ to be a small value, we will have a high probability to exploit the best arm we have found. And we will have a low probability to explore other arms.\n",
    "\n",
    "If we set $\\epsilon$ to be a large value, we will have a high probability to explore other arms. And we will have a low probability to exploit the best arm we have found.\n",
    "\n",
    "As the result, we could find that the reward of the epsilon-greedy algorithm with $\\epsilon=0.1$ is the highest. And its reward is $3401.04$. Within a certain range, the less exploration, i.e. the less $\\epsilon$ is, we could have a higher reward.\n",
    "\n",
    "And in our further exploration, we could find that the reward of the epsilon-greedy algorithm with $\\epsilon(t)=0.98^t$ is the highest. And its reward is $3468.965$. This could be understood that the exponential function decreased the most sharply. There is a turning point for exponential function. Before the corner point, the $\\epsilon(t)$ decrease slowly, give it enough probability to explore. And after the corner point, the $\\epsilon(t)$ will decrease sharply to a very small value in a short time. And we will have a high probability to exploit the best arm we have found. So it seems reasonable to have the best performance among all the experiments with epsilon-greedy algorithm.\n",
    "\n",
    "## 2. the UCB algorithm\n",
    "\n",
    "deduction of the UCB algorithm:\n",
    "\n",
    "Since $reward_i\\sim Bern(\\hat{\\theta}_i)$\n",
    "\n",
    "According to Hoeffing's bound, we have\n",
    "$$P(|\\mu-\\bar{\\mu}|\\geq\\epsilon) \\leq 2e^{\\frac{-2n\\epsilon^2}{(b-a)^2}}\\leq 2e^{\\frac{-n\\epsilon^2}{2}}$$\n",
    "Where $\\bar{\\mu}=\\dfrac{1}{n}\\sum\\limits_ireward_i$, and $\\mu$ be the mean of the distribution.\n",
    "\n",
    "Take the confidence interval as $1-2\\delta$\n",
    "\n",
    "then we can get that $$2\\delta = 2e^{\\frac{-n\\epsilon^2}{2}}$$\n",
    "i.e. $$\\epsilon = \\sqrt{\\frac{2}{n}ln(\\frac{1}{\\delta})}$$\n",
    "And let $t$ be the turn, we can take $\\delta = \\dfrac{1}{t}$.\n",
    "\n",
    "So we can get the exploration part of the UCB algorithm:\n",
    "$$\\sqrt{\\dfrac{2log(t)}{count(i)}}$$\n",
    "And we can give it a parameter $c$ to control the degree of exploration.\n",
    "\n",
    "So the formula $$I(t) = \\argmax\\limits_{j\\in\\{1,2,3\\}}(\\hat{\\theta}_j+c\\cdot \\sqrt{\\dfrac{2log(t)}{count(j)}})$$\n",
    "Where the part $\\hat{\\theta}_j$ is for exploitation, and the part $c\\cdot \\sqrt{\\dfrac{2log(t)}{count(j)}}$ is for exploration.\n",
    "\n",
    "As the turn $t$ increase, the belief of the confidence increase, as it goes, the prediction gets more accurate.\n",
    "\n",
    "As for $c$, it is the parameter the decribe the degree of exploration. As $c$ increase, It turns to be more likely to explore. Correspondingly, as $c$ decrease, it more likely to exploitation.\n",
    "\n",
    "According to the given parameters, we could discover that $c=1$ is the best for the whole process, and in the certain range, the smaller the $c$ is, the better reward we will get. And the biggest rewards among given parameters is when $c=1$, the reward is $3405.905$.\n",
    "\n",
    "And in our further exploration, we could find that the reward of the UCB algorithm with $c(t)=0.95^t$ is the highest. And its reward is $3411.185$. This could be understood that the exponential function decreased the most sharply. There is a turning point for exponential function. Before the corner point, the $c(t)$ decrease slowly, give it much bigger to explore. And after the corner point, the $c(t)$ will decrease sharply to much less for explore, which means more on exploitation. So it seems reasonable to have the best performance among all the experiments with UCB algorithm.\n",
    "\n",
    "## 3. the Thompson Sampling algorithm\n",
    "\n",
    "In the Thompson Sampling algorithm, we have a parameter $\\alpha$ and $\\beta$ to decide $\\hat{\\theta}_j$ as it $\\sim Beta(\\alpha,\\beta)$.\n",
    "\n",
    "The Thompson Sampling algorithm is somehow more like a Bayesian method. We have a prior belief of the distribution of the reward. And we update the belief according to the reward we get.\n",
    "\n",
    "The initial parameters $\\alpha$ and $\\beta$ are the prior belief of the distribution of the reward. And we update the parameters according to the reward we get with the Beta-Binomial conjugate.\n",
    "\n",
    "If we set $\\alpha_j$ and $\\beta_j$ to be a small value, we can regard that the prior tests time are less. i.e. with less prior tests, also less exploration.\n",
    "\n",
    "If we set $\\alpha_j$ and $\\beta_j$ to be a large value, we can regard that the prior tests time are more. i.e. with more prior tests, also more exploration.\n",
    "\n",
    "So the performance relay on the prior distrubution, i.e. the parameters' settings $\\alpha_j$ and $\\beta_j$.\n",
    "\n",
    "In our experiences, we could discover that the more bigger we set, and the closer of the expectation we set to the Beta distribution, i.e. $\\dfrac{\\alpha_i}{\\alpha_i+\\beta_i}$ to the oracle value, the better performance we will get.\n",
    "\n",
    "Although we may get better performance through adjusting the parameters, the difference is very small, and we still get the bset performance with Thompson Sampling algorithm than other algorithms. And the reward is $3505.345$. The regret always be very small."
   ]
  },
  {
   "attachments": {},
   "cell_type": "markdown",
   "metadata": {},
   "source": [
    "5. Give your understanding of the exploration-exploitation trade-off in bandit algorithms."
   ]
  },
  {
   "attachments": {},
   "cell_type": "markdown",
   "metadata": {},
   "source": [
    "**Your anwser of problem 5 in Part I**"
   ]
  },
  {
   "attachments": {},
   "cell_type": "markdown",
   "metadata": {},
   "source": [
    "---\n",
    "# Answer of Problem 5 in Part I\n",
    "---\n",
    "\n",
    "Actually, initially we made some mistakes on understanding of the bandit algorithm. The understanding of $\\theta,\\hat{\\theta}$ should be:\n",
    "\n",
    "$\\hat{\\theta}_j$ is our evaluation of $\\theta(j)$. In the Bandit model, the paremeter of mean reward $\\theta$ is unknown, and it decides the reward we obtain. What we can know is our evaluation of $\\theta$ , which is $\\hat{\\theta}$ and we decide our choice according our evaluation $\\hat{\\theta}$.\n",
    "\n",
    "## Understandings of the exploration-exploitation trade-off in bandit algorithms\n",
    "\n",
    "Exploration-Exploitation is a basic and popular topic in Reinforcement Learning. And it is also a very important topic in the bandit algorithm. \n",
    "\n",
    "At the beginning of playing with the bandit, we know nothing about the bandit. We have no idea about the reward of each arm. So we have to explore the bandit, gaining data from the previous decisions and feedbacks. Then get some information about the bandit. And then we can exploit the bandit according to the information we have got.\n",
    "\n",
    "So the exploration-exploitation trade-off is the trade-off between exploration and exploitation. For exploration, we need to continue to explore, which means that we need to continue to gain data from the previous decisions and feedbacks. And for exploitation, we need to exploit the bandit according to the information we have got. Which means that we want to get the best reward according to the information we have got. So for exploit part, we combine what we obtained from the exploration part, and always make the best decision.\n",
    "\n",
    "However, there must have a trade-off between exploration and exploitation. That is we have no idea how many times to explore, and when to start to exploit. If we always explore, we will never exploit to obtain better reward. And if we always exploit, we do not explore, and we may miss the best decision, go along the wrong way further and further.\n",
    "\n",
    "So we need to find a balance between exploration and exploitation. And this is the exploration-exploitation trade-off.\n",
    "\n",
    "Some simple and direct thought is to explore when the certainty of the information we have is not enough, and exploit when the certainty of the information we have is enough. However, this is not a good idea. Because we have no idea how many times we need to explore, and when to start to exploit. And we have no idea how to define the certainty of the information we have is enough.\n",
    "\n",
    "So same simple but powerful algorithms are proposed to solve this problem. And these are what we have done to experiment above.\n",
    "\n",
    "## The algorithms for exploration-exploitation trade-off\n",
    "\n",
    "From all these experiments, we could discover that the rewards and the regrets among all the algorithms are somehow have some negative linear relationships. i.e. The more reward we get, the less regret we have. And the more regret we have, the less reward we get.\n",
    "\n",
    "#### 1. epsilon-greedy algorithm\n",
    "epsilon-greedy algorithm is a simple but effective method. The basic idea is that we have a parameter $\\epsilon$ to control the degree of exploration. For each time, we have a probability $\\epsilon$ to explore, and a probability $1-\\epsilon$ to exploit. With $\\epsilon$ to control the trade-off between exploration and exploitation. It have a fixed $\\epsilon$ for the whole process. So exploration and exploitation may happened at all the time.\n",
    "\n",
    "However, with human's experiment, we tend to do more exploration at the beginning, and do more exploitation at the end. So we can adjust the $\\epsilon$ according to the turn $t$. And we have some experiments on this. And we could discover that if we let the $\\epsilon$ decrease with the turn $t$ increase. i.e. more exploration at the beginning, and more exploitation at the end. We could get better performance. \n",
    "\n",
    "Among different decreasing strategies of $\\epsilon$, we could discover that the $\\epsilon$ decrease with the exponential function is the best. And the reward is $3405.905$.\n",
    "\n",
    "#### 2. UCB algorithm\n",
    "\n",
    "The UCB algorithm is base on the Hoeffding bound and the running turn to balance the exploration and exploitation. The basic idea is that we have a parameter $c$ to control the degree of exploration. And we deciding which arm to choose, it is seperate into the sum of two parts with different weights. One part is for exploitation, and the other part is for exploration. The parameter $c$, the running turn $t$, the the selection time of each arm works on the exoliration part to control the degree of exploration as a trade-off between exploration and exploitation. \n",
    "\n",
    "Also, as the turns increase, the weight of exploration part decrease to make more efforts on the exploitation part. And we have some experiments on this. The trade-off turns out to be explore at first as in the beginning, the exploration part usually have a bigger weight, and the trade-off turns out to be exploit at last as the turns increasing, the exploitation part usually have a bigger weight as time goes by.\n",
    "\n",
    "We could discover that with given parameters, in the certain range, the less $c$ is symbolizes that less effect on the exploration part, has a better performance.\n",
    "\n",
    "And we have done further experiments on this. We could discover that if we let the $c$ decrease with the turn $t$ increase. i.e. $c$ is a function of $t: c(t)$. And we control that $c(t)$ decreases as $t$ increaing to control the trade-off: more exploration at the beginning, and more exploitation at the end.\n",
    "\n",
    "With experiments, we could discover that this get better performance. And we setting the decreasing function as an exponential function. And the reward is the highest among the UCB algorithm. \n",
    "\n",
    "#### 3. Thompson Sampling algorithm\n",
    "\n",
    "As for the Thompson Sampling algorithm, its trade-off somehow more like the Bayes' Inference with the Beta-Binomial conjugency.\n",
    "\n",
    "The parameters' settings $\\alpha_i$ and $\\beta_i$ can be regard as the prior distribution of each arm to control the degree of exploration. And we have a Beta distribution for each arm. And we sample a value from each Beta distribution, and choose the arm with the biggest value. And we update the Beta distribution of the arm we choose according to the feedback we get. This can be seen as we get the posterior distribution.\n",
    "\n",
    "So we can see that the Thompson Sampling algorithm as a trade-off between the prior distribution and the posterior distribution. So we can see that the Beta distribution is the trade-off between the prior distribution and the posterior distribution.\n",
    "\n",
    "As we all know, the Bayes Inference gets a better performance with more data. And we have some experiments on this.\n",
    "\n",
    "Usually, when setting the parameter as prior distribution have a bigger number, which means that we implictly told the model that we have already done more experiment before. So if the parameter is suitable to the oracle, we can get a better performance. And we can see that the Beta distribution is the trade-off between the exploration and the exploitation.\n",
    "\n",
    "And among these algorithms, with experimental provement, we can discover that the Thompson Sampling algorithm is always the best one. Although adjusting the parameters only make a little difference to the reward, but it is always the best one.\n",
    "\n",
    "## Summary\n",
    "\n",
    "Above all, each algorithm has there own advantages, and they all have their unique method the deal with the trade-off between exploration and exploitation to chase for a better performance. \n",
    "\n",
    "The performance among different algorithm may various a lot, so we need to decide to choose the correct model when solving the problems. And gain the advantages from each algorithm. The algorithms all teach us the knowledge of trade-off. Not only in the bandit algorithm, but also in the real life. We need to find a balance between exploration and exploitation.\n",
    "\n",
    "Also, the parameters in the algorithms are also playing very important role in it. Even if we choose the best method, the best algorithm, we still need to adjust the parameters to get the best performance. And this is also somehow a trade-off. We should not only focus on the algorithm, but also the parameters. In real life, we not only need to find the best method, but also need to find the best parameters. Find the best choise of method, then work on hard to find the best parameters of life. "
   ]
  },
  {
   "attachments": {},
   "cell_type": "markdown",
   "metadata": {},
   "source": [
    "6. We implicitly assume the reward distribution of these three arms are independent. How about the dependent case?\n",
    "\tCan you design an algorithm to exploit such information to obtain a better result?"
   ]
  },
  {
   "attachments": {},
   "cell_type": "markdown",
   "metadata": {},
   "source": [
    "**Your anwser of problem 6 in Part I**"
   ]
  },
  {
   "attachments": {},
   "cell_type": "markdown",
   "metadata": {},
   "source": [
    "---\n",
    "# Answer of Problem 6 in Part I\n",
    "---\n",
    "\n",
    "\n",
    "Settings:\n",
    "\n"
   ]
  },
  {
   "cell_type": "code",
   "execution_count": null,
   "metadata": {},
   "outputs": [],
   "source": [
    "### Your code for problem 1.6. Feel free to insert more blocks or helper functions if you need.\n",
    "\n",
    "\n",
    "\n"
   ]
  },
  {
   "attachments": {},
   "cell_type": "markdown",
   "metadata": {},
   "source": [
    "## Part II: Bayesian Bandit Algorithms"
   ]
  },
  {
   "attachments": {},
   "cell_type": "markdown",
   "metadata": {},
   "source": [
    "There are two arms which may be pulled repeatedly in any order.\n",
    "Each pull may result in either a success or a failure.\n",
    "The sequence of successes and failures which results from pulling arm $i$ ($i \\in \\{1, 2\\}$) forms a Bernoulli process with unknown success probability $\\theta_{i}$.\n",
    "A success at the $t^{th}$ pull yields a reward $\\gamma^{t-1}$ ($0 < \\gamma <1$), while an unsuccessful pull yields a zero reward.\n",
    "At time zero, each $\\theta_{i}$ has a Beta prior distribution with two parameters $\\alpha_{i}, \\beta_{i}$ and these distributions are independent for different arms.\n",
    "These prior distributions are updated to posterior distributions as arms are pulled.\n",
    "Since the class of Beta distributions is closed under Bernoulli sampling, posterior distributions are all Beta distributions.\n",
    "How should the arm to pull next in each time slot be chosen to maximize the total expected reward from an infinite sequence of pulls?"
   ]
  },
  {
   "attachments": {},
   "cell_type": "markdown",
   "metadata": {},
   "source": [
    "1. \tOne intuitive policy suggests that in each time slot we should pull the arm for which the current expected value of $\\theta_{i}$ is the largest.\n",
    "\tThis policy behaves very good in most cases.\n",
    "\tPlease design simulations to check the behavior of this policy."
   ]
  },
  {
   "attachments": {},
   "cell_type": "markdown",
   "metadata": {},
   "source": [
    "**Your anwser of problem 1 in Part II**"
   ]
  },
  {
   "attachments": {},
   "cell_type": "markdown",
   "metadata": {},
   "source": [
    "---\n",
    "# Answer of Problem 1 in Part II\n",
    "---"
   ]
  },
  {
   "cell_type": "code",
   "execution_count": 1,
   "metadata": {},
   "outputs": [],
   "source": [
    "### Your code for problem 2.1. Feel free to insert more blocks or helper functions if you need.\n",
    "\n",
    "\n",
    "\n"
   ]
  },
  {
   "attachments": {},
   "cell_type": "markdown",
   "metadata": {},
   "source": [
    "2. However, such intuitive policy is unfortunately not optimal.\n",
    "\tPlease provide an example to show why such policy is not optimal. "
   ]
  },
  {
   "attachments": {},
   "cell_type": "markdown",
   "metadata": {},
   "source": [
    "**Your anwser of problem 2 in Part II**"
   ]
  },
  {
   "attachments": {},
   "cell_type": "markdown",
   "metadata": {},
   "source": [
    "---\n",
    "# Answer of Problem 2 in Part II\n",
    "---\n",
    "\n",
    "Please provide an example to show why such policy is not optimal\n",
    "\n",
    "\n",
    "\n",
    "\n"
   ]
  },
  {
   "attachments": {},
   "cell_type": "markdown",
   "metadata": {},
   "source": [
    "3. For the expected total reward under an optimal policy, show that the following recurrence equation holds:\n",
    "\n",
    "\\begin{equation*}\n",
    "\t\t\\begin{aligned}\n",
    "\t\t\tR_{1}(\\alpha_{1},\\beta_{1}) \n",
    "\t\t\t= & \\frac{\\alpha_{1}}{\\alpha_{1}+\\beta_{1}} [1+\\gamma R(\\alpha_{1} + 1, \\beta_{1}, \\alpha_{2}, \\beta_{2})] \\\\\n",
    "\t\t\t\t& + \\frac{\\beta_{1}}{\\alpha_{1} + \\beta_{1}} [\\gamma R(\\alpha_{1}, \\beta_{1} + 1, \\alpha_{2}, \\beta_{2})]; \\\\\n",
    "\t\t\tR_{2}(\\alpha_{2}, \\beta_{2}) \n",
    "\t\t\t= & \\frac{\\alpha_{2}}{\\alpha_{2} + \\beta_{2}} [1 + \\gamma R(\\alpha_{1}, \\beta_{1}, \\alpha_{2} + 1, \\beta_{2})] \\\\\n",
    "\t\t\t\t& + \\frac{\\beta_{2}}{\\alpha_{2} + \\beta_{2}} [\\gamma R(\\alpha_{1}, \\beta_{1}, \\alpha_{2}, \\beta_{2} + 1)]; \\\\\n",
    "\t\t\tR(\\alpha_{1}, \\beta_{1}, \\alpha_{2}, \\beta_{2}) \n",
    "\t\t\t= & \\max \\left\\{ R_{1}(\\alpha_{1}, \\beta_{1}), R_{2}(\\alpha_{2}, \\beta_{2}) \\right\\}.\n",
    "\t\t\\end{aligned}  \t\n",
    "\t\\end{equation*}"
   ]
  },
  {
   "attachments": {},
   "cell_type": "markdown",
   "metadata": {},
   "source": [
    "**Your anwser of problem 3 in Part II**"
   ]
  },
  {
   "attachments": {},
   "cell_type": "markdown",
   "metadata": {},
   "source": [
    "---\n",
    "# Answer of Problem 3 in Part II\n",
    "---\n",
    "\n",
    "At time zero, each $\\theta_{i}$ has a Beta prior distribution with two parameters $\\alpha_{i}, \\beta_{i}$ and these distributions are independent for different arms.\n",
    "\n",
    "A success at the $t^{th}$ pull yields a reward $\\gamma^{t-1}$ ($0 < \\gamma <1$), while an unsuccessful pull yields a zero reward.\n",
    "\n",
    "So if we pull the arm 1 at the $t^{th}$ time, since it success or not is a distribution that is $Bern(\\theta_1)$.\n",
    "\n",
    "So it will yield a reward $\\gamma^{t-1}$ when success with probability $\\theta_1$, and yield a reward 0 when failure with probability $1-\\theta_1$.\n",
    "\n",
    "And since $\\theta_1\\sim Beta(\\alpha_1, \\beta_1)$, \n"
   ]
  },
  {
   "attachments": {},
   "cell_type": "markdown",
   "metadata": {},
   "source": [
    "4. For the above equations, how to solve it exactly or approximately? "
   ]
  },
  {
   "attachments": {},
   "cell_type": "markdown",
   "metadata": {},
   "source": [
    "**Your anwser of problem 4 in Part II**"
   ]
  },
  {
   "attachments": {},
   "cell_type": "markdown",
   "metadata": {},
   "source": [
    "---\n",
    "# Answer of Problem 4 in Part II\n",
    "---"
   ]
  },
  {
   "cell_type": "code",
   "execution_count": 1,
   "metadata": {},
   "outputs": [],
   "source": [
    "### Your code for problem 2.4 if needed.\n",
    "dict = {}\n",
    "\n",
    "def R(a1, b1, a2, b2, gamma):\n",
    "   global dict\n",
    "   if ((a1, a2, b1, b2) in dict): # if the value is already in the dictionary\n",
    "      return dict[(a1, a2, b1, b2)]\n",
    "   \n",
    "   # bound condition\n",
    "   # suppose that exploration 1000 times is enough for exploitation\n",
    "   if (a1 + b1 + a2 + b2 > 50):\n",
    "      mean1 = a1 / (a1 + b1)\n",
    "      mean2 = a2 / (a2 + b2)\n",
    "      return max(mean1, mean2) # return the max mean value of two arms\n",
    "\n",
    "   # transfer fuction\n",
    "   R1 = a1 / (a1 + b1) * (1 + gamma * R(a1 + 1, b1, a2, b2, gamma)) \\\n",
    "      + b1 / (a1 + b1) * (gamma * R(a1, b1 + 1, a2, b2, gamma))\n",
    "    \n",
    "   R2 = a2 / (a2 + b2) * (1 + gamma * R(a1, b1, a2 + 1, b2, gamma)) \\\n",
    "      + b2 / (a2 + b2) * (gamma * R(a1, b1, a2, b2 + 1, gamma))\n",
    "\n",
    "   reward = max(R1, R2)\n",
    "   reward = R1\n",
    "   dict[(a1, a2, b1, b2)] = reward # store the value in the dictionary\n",
    "   return reward"
   ]
  },
  {
   "attachments": {},
   "cell_type": "markdown",
   "metadata": {},
   "source": [
    "5. Find the optimal policy."
   ]
  },
  {
   "attachments": {},
   "cell_type": "markdown",
   "metadata": {},
   "source": [
    "**Your anwser of problem 5 in Part II**"
   ]
  },
  {
   "attachments": {},
   "cell_type": "markdown",
   "metadata": {},
   "source": [
    "---\n",
    "# Answer of Problem 5 in Part II\n",
    "---"
   ]
  },
  {
   "cell_type": "code",
   "execution_count": 6,
   "metadata": {},
   "outputs": [
    {
     "name": "stdout",
     "output_type": "stream",
     "text": [
      "4.969052244282912\n"
     ]
    }
   ],
   "source": [
    "### Your code for problem 2.5. Feel free to insert more blocks or helper functions if you need.\n",
    "print(R(1, 1, 1, 1, 0.9))"
   ]
  },
  {
   "cell_type": "code",
   "execution_count": null,
   "metadata": {},
   "outputs": [],
   "source": []
  }
 ],
 "metadata": {
  "kernelspec": {
   "display_name": "Python 3",
   "language": "python",
   "name": "python3"
  },
  "language_info": {
   "codemirror_mode": {
    "name": "ipython",
    "version": 3
   },
   "file_extension": ".py",
   "mimetype": "text/x-python",
   "name": "python",
   "nbconvert_exporter": "python",
   "pygments_lexer": "ipython3",
   "version": "3.9.13"
  }
 },
 "nbformat": 4,
 "nbformat_minor": 4
}
